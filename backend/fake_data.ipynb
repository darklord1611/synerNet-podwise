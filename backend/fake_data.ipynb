{
 "cells": [
  {
   "cell_type": "code",
   "execution_count": 60,
   "metadata": {},
   "outputs": [],
   "source": [
    "\n",
    "from fastapi import APIRouter\n",
    "from supabase import create_client, Client\n",
    "from config import SUPABASE_URL, SUPABASE_KEY, PODCAST_API_KEY, PODCAST_USER_ID, PODCAST_API_URL\n",
    "import requests\n",
    "\n",
    "supabase: Client = create_client(SUPABASE_URL, SUPABASE_KEY)"
   ]
  },
  {
   "cell_type": "code",
   "execution_count": 61,
   "metadata": {},
   "outputs": [],
   "source": [
    "sample_headers = {\n",
    "    \"Content-Type\": \"application/json\",\n",
    "    \"X-USER-ID\": PODCAST_USER_ID,\n",
    "    \"X-API-KEY\": PODCAST_API_KEY\n",
    "}"
   ]
  },
  {
   "cell_type": "code",
   "execution_count": 62,
   "metadata": {},
   "outputs": [],
   "source": [
    "def get_podcast_data(podcast_name = \"Lex Fridman\"):\n",
    "    podcast_request_body = f\"\"\"{{\n",
    "        getPodcastSeries(name: \"Lex Fridman\") {{\n",
    "        uuid\n",
    "        name\n",
    "        authorName\n",
    "        imageUrl\n",
    "        description\n",
    "        episodes(page:5) {{\n",
    "            uuid\n",
    "            datePublished\n",
    "            name\n",
    "            description\n",
    "            duration\n",
    "            imageUrl\n",
    "            audioUrl\n",
    "        }}\n",
    "        genres\n",
    "    }}\n",
    "    }}\n",
    "    \"\"\"\n",
    "    json_request = {\"query\": podcast_request_body}\n",
    "    res = requests.post(PODCAST_API_URL, headers=sample_headers, json=json_request)\n",
    "    return res.json()"
   ]
  },
  {
   "cell_type": "code",
   "execution_count": 63,
   "metadata": {},
   "outputs": [],
   "source": [
    "res = get_podcast_data()"
   ]
  },
  {
   "cell_type": "code",
   "execution_count": 64,
   "metadata": {},
   "outputs": [
    {
     "data": {
      "text/plain": [
       "[{'uuid': 'eb0a3ee3-46ea-487a-9250-3b166b08181c',\n",
       "  'datePublished': 1699556626,\n",
       "  'name': '#400 – Elon Musk: War, AI, Aliens, Politics, Physics, Video Games, and Humanity',\n",
       "  'description': '<p>Elon Musk is CEO of X, xAI, SpaceX, Tesla, Neuralink, and The Boring Company.</p>\\n<p>Thank you for listening ❤ Please support this podcast by checking out our sponsors:<br />\\n&#8211; LMNT: <a href=\"https://drinkLMNT.com/lex\">https://drinkLMNT.com/lex</a> to get free sample pack<br />\\n&#8211; Eight Sleep: <a href=\"https://www.eightsleep.com/lex\">https://www.eightsleep.com/lex</a> to get special savings<br />\\n&#8211; BetterHelp: <a href=\"https://betterhelp.com/lex\">https://betterhelp.com/lex</a> to get 10% off<br />\\n&#8211; SimpliSafe: <a href=\"https://simplisafe.com/lex\">https://simplisafe.com/lex</a> to get free security camera plus 20% off<br />\\n&#8211; Shopify: <a href=\"https://shopify.com/lex\">https://shopify.com/lex</a> to get $1 per month trial<br />\\n&#8211; NetSuite: <a href=\"http://netsuite.com/lex\">http://netsuite.com/lex</a> to get free product tour</p>\\n<p>Transcript: <a href=\"https://lexfridman.com/elon-musk-4-transcript\">https://lexfridman.com/elon-musk-4-transcript</a></p>\\n<p><b>EPISODE LINKS:</b><br />\\nElon&#8217;s X: <a href=\"https://x.com/elonmusk\">https://x.com/elonmusk</a><br />\\nxAI: <a href=\"https://x.com/xai\">https://x.com/xai</a><br />\\nTesla: <a href=\"https://x.com/tesla\">https://x.com/tesla</a><br />\\nTesla Optimus: <a href=\"https://x.com/tesla_optimus\">https://x.com/tesla_optimus</a><br />\\nTesla AI: <a href=\"https://x.com/Tesla_AI\">https://x.com/Tesla_AI</a><br />\\nSpaceX: <a href=\"https://x.com/spacex\">https://x.com/spacex</a><br />\\nNeuralink: <a href=\"https://x.com/neuralink\">https://x.com/neuralink</a><br />\\nThe Boring Company: <a href=\"https://x.com/boringcompany\">https://x.com/boringcompany</a></p>\\n<p><b>PODCAST INFO:</b><br />\\nPodcast website: <a href=\"https://lexfridman.com/podcast\">https://lexfridman.com/podcast</a><br />\\nApple Podcasts: <a href=\"https://apple.co/2lwqZIr\">https://apple.co/2lwqZIr</a><br />\\nSpotify: <a href=\"https://spoti.fi/2nEwCF8\">https://spoti.fi/2nEwCF8</a><br />\\nRSS: <a href=\"https://lexfridman.com/feed/podcast/\">https://lexfridman.com/feed/podcast/</a><br />\\nYouTube Full Episodes: <a href=\"https://youtube.com/lexfridman\">https://youtube.com/lexfridman</a><br />\\nYouTube Clips: <a href=\"https://youtube.com/lexclips\">https://youtube.com/lexclips</a></p>\\n<p><b>SUPPORT &amp; CONNECT:</b><br />\\n&#8211; Check out the sponsors above, it&#8217;s the best way to support this podcast<br />\\n&#8211; Support on Patreon: <a href=\"https://www.patreon.com/lexfridman\">https://www.patreon.com/lexfridman</a><br />\\n&#8211; Twitter: <a href=\"https://twitter.com/lexfridman\">https://twitter.com/lexfridman</a><br />\\n&#8211; Instagram: <a href=\"https://www.instagram.com/lexfridman\">https://www.instagram.com/lexfridman</a><br />\\n&#8211; LinkedIn: <a href=\"https://www.linkedin.com/in/lexfridman\">https://www.linkedin.com/in/lexfridman</a><br />\\n&#8211; Facebook: <a href=\"https://www.facebook.com/lexfridman\">https://www.facebook.com/lexfridman</a><br />\\n&#8211; Medium: <a href=\"https://medium.com/@lexfridman\">https://medium.com/@lexfridman</a></p>\\n<p><b>OUTLINE:</b><br />\\nHere&#8217;s the timestamps for the episode. On some podcast players you should be able to click the timestamp to jump to that time.<br />\\n(00:00) &#8211; Introduction<br />\\n(10:25) &#8211; War and human nature<br />\\n(14:51) &#8211; Israel-Hamas war<br />\\n(20:59) &#8211; Military-Industrial Complex<br />\\n(25:16) &#8211; War in Ukraine<br />\\n(29:59) &#8211; China<br />\\n(44:15) &#8211; xAI Grok<br />\\n(55:13) &#8211; Aliens<br />\\n(1:03:13) &#8211; God<br />\\n(1:05:41) &#8211; Diablo 4 and video games<br />\\n(1:14:48) &#8211; Dystopian worlds: 1984 and Brave New World<br />\\n(1:20:59) &#8211; AI and useful compute per watt<br />\\n(1:26:40) &#8211; AI regulation<br />\\n(1:33:32) &#8211; Should AI be open-sourced?<br />\\n(1:40:54) &#8211; X algorithm<br />\\n(1:52:15) &#8211; 2024 presidential elections<br />\\n(2:05:14) &#8211; Politics<br />\\n(2:08:16) &#8211; Trust<br />\\n(2:13:47) &#8211; Tesla&#8217;s Autopilot and Optimus robot<br />\\n(2:22:46) &#8211; Hardships</p>\\n',\n",
       "  'duration': 8832,\n",
       "  'imageUrl': 'https://lexfridman.com/wordpress/wp-content/uploads/powerpress/artwork_3000-230.png',\n",
       "  'audioUrl': 'https://media.blubrry.com/takeituneasy/content.blubrry.com/takeituneasy/lex_ai_elon_musk_4.mp3'}]"
      ]
     },
     "execution_count": 64,
     "metadata": {},
     "output_type": "execute_result"
    }
   ],
   "source": [
    "data = [res['data']['getPodcastSeries']['episodes'][3]]\n",
    "data"
   ]
  },
  {
   "cell_type": "code",
   "execution_count": 65,
   "metadata": {},
   "outputs": [],
   "source": [
    "from datetime import datetime\n",
    "\n",
    "def insert_podcast(data):\n",
    "    return (\n",
    "        supabase.table(\"podcasts\").insert({\n",
    "        \"title\": data['name'],\n",
    "        \"author_name\": data['authorName'],\n",
    "        \"image_url\": data['imageUrl'],\n",
    "        \"description\": data['description'],\n",
    "    }).execute())\n",
    "\n",
    "def insert_episodes(data):\n",
    "    return (supabase.table(\"episodes\").insert([{\n",
    "        \"title\": episode['name'],\n",
    "        \"description\": episode['description'],\n",
    "        \"duration\": episode['duration'],\n",
    "        \"image_url\": episode['imageUrl'],\n",
    "        \"created_at\": datetime.fromtimestamp(episode['datePublished']).isoformat(),\n",
    "        \"audio_url\": episode['audioUrl'],\n",
    "    } for episode in data]).execute())"
   ]
  },
  {
   "cell_type": "code",
   "execution_count": 66,
   "metadata": {},
   "outputs": [],
   "source": [
    "# response = insert_podcast(res['data']['getPodcastSeries'])"
   ]
  },
  {
   "cell_type": "code",
   "execution_count": 67,
   "metadata": {},
   "outputs": [],
   "source": [
    "episode_response = insert_episodes(res['data']['getPodcastSeries']['episodes'])"
   ]
  },
  {
   "cell_type": "code",
   "execution_count": 68,
   "metadata": {},
   "outputs": [
    {
     "data": {
      "text/plain": [
       "[{'id': 51,\n",
       "  'title': '#403 – Lisa Randall: Dark Matter, Theoretical Physics, and Extinction Events',\n",
       "  'description': '<p>Lisa Randall is a theoretical physicist at Harvard. Please support this podcast by checking out our sponsors:<br />\\n&#8211; <b>Babbel</b>: <a href=\"https://babbel.com/lexpod\">https://babbel.com/lexpod</a> and use code Lexpod to get 55% off<br />\\n&#8211; <b>Notion</b>: <a href=\"https://notion.com\">https://notion.com</a><br />\\n&#8211; <b>SimpliSafe</b>: <a href=\"https://simplisafe.com/lex\">https://simplisafe.com/lex</a> to get free security camera plus 20% off<br />\\n&#8211; <b>LMNT</b>: <a href=\"https://drinkLMNT.com/lex\">https://drinkLMNT.com/lex</a> to get free sample pack<br />\\n&#8211; <b>InsideTracker</b>: <a href=\"https://insidetracker.com/lex\">https://insidetracker.com/lex</a> to get 20% off</p>\\n<p>Transcript: <a href=\"https://lexfridman.com/lisa-randall-transcript\">https://lexfridman.com/lisa-randall-transcript</a></p>\\n<p><b>EPISODE LINKS:</b><br />\\nLisa&#8217;s Twitter: <a href=\"https://twitter.com/lirarandall\">https://twitter.com/lirarandall</a><br />\\nLisa&#8217;s Instagram: <a href=\"https://instagram.com/proflisarandall\">https://instagram.com/proflisarandall</a><br />\\nLisa&#8217;s Website: <a href=\"https://www.physics.harvard.edu/people/facpages/randall\">https://www.physics.harvard.edu/people/facpages/randall</a><br />\\nBooks:<br />\\nDark Matter and the Dinosaurs: <a href=\"https://amzn.to/417cKZJ\">https://amzn.to/417cKZJ</a><br />\\nKnocking on Heaven&#8217;s Door: <a href=\"https://amzn.to/3R4LjLC\">https://amzn.to/3R4LjLC</a><br />\\nWarped Passages: <a href=\"https://amzn.to/49Xcr85\">https://amzn.to/49Xcr85</a><br />\\nHiggs Discovery: <a href=\"https://amzn.to/4a6sfWe\">https://amzn.to/4a6sfWe</a></p>\\n<p><b>PODCAST INFO:</b><br />\\nPodcast website: <a href=\"https://lexfridman.com/podcast\">https://lexfridman.com/podcast</a><br />\\nApple Podcasts: <a href=\"https://apple.co/2lwqZIr\">https://apple.co/2lwqZIr</a><br />\\nSpotify: <a href=\"https://spoti.fi/2nEwCF8\">https://spoti.fi/2nEwCF8</a><br />\\nRSS: <a href=\"https://lexfridman.com/feed/podcast/\">https://lexfridman.com/feed/podcast/</a><br />\\nYouTube Full Episodes: <a href=\"https://youtube.com/lexfridman\">https://youtube.com/lexfridman</a><br />\\nYouTube Clips: <a href=\"https://youtube.com/lexclips\">https://youtube.com/lexclips</a></p>\\n<p><b>SUPPORT &#038; CONNECT:</b><br />\\n&#8211; Check out the sponsors above, it&#8217;s the best way to support this podcast<br />\\n&#8211; Support on Patreon: <a href=\"https://www.patreon.com/lexfridman\">https://www.patreon.com/lexfridman</a><br />\\n&#8211; Twitter: <a href=\"https://twitter.com/lexfridman\">https://twitter.com/lexfridman</a><br />\\n&#8211; Instagram: <a href=\"https://www.instagram.com/lexfridman\">https://www.instagram.com/lexfridman</a><br />\\n&#8211; LinkedIn: <a href=\"https://www.linkedin.com/in/lexfridman\">https://www.linkedin.com/in/lexfridman</a><br />\\n&#8211; Facebook: <a href=\"https://www.facebook.com/lexfridman\">https://www.facebook.com/lexfridman</a><br />\\n&#8211; Medium: <a href=\"https://medium.com/@lexfridman\">https://medium.com/@lexfridman</a></p>\\n<p><b>OUTLINE:</b><br />\\nHere&#8217;s the timestamps for the episode. On some podcast players you should be able to click the timestamp to jump to that time.<br />\\n(00:00) &#8211; Introduction<br />\\n(11:11) &#8211; Dark matter<br />\\n(30:02) &#8211; Extinction events<br />\\n(41:02) &#8211; Particle physics<br />\\n(56:16) &#8211; Physics vs mathematics</p>\\n',\n",
       "  'duration': 0,\n",
       "  'created_at': '2023-12-04',\n",
       "  'audio_url': 'https://media.blubrry.com/takeituneasy/content.blubrry.com/takeituneasy/lex_ai_lisa_randall.mp3',\n",
       "  'image_url': 'https://lexfridman.com/wordpress/wp-content/uploads/powerpress/artwork_3000-230.png'},\n",
       " {'id': 52,\n",
       "  'title': '#402 – Michael Malice: Thanksgiving Pirate Special',\n",
       "  'description': '<p>Michael Malice is a political thinker, podcaster, author, and anarchist. Please support this podcast by checking out our sponsors:<br />\\n&#8211; <b>Policygenius</b>: <a href=\"https://www.policygenius.com/\">https://www.policygenius.com/</a><br />\\n&#8211; <b>MasterClass</b>: <a href=\"https://masterclass.com/lexpod\">https://masterclass.com/lexpod</a> to get 15% off<br />\\n&#8211; <b>Shopify</b>: <a href=\"https://shopify.com/lex\">https://shopify.com/lex</a> to get $1 per month trial<br />\\n&#8211; <b>BetterHelp</b>: <a href=\"https://betterhelp.com/lex\">https://betterhelp.com/lex</a> to get 10% off<br />\\n&#8211; <b>Eight Sleep</b>: <a href=\"https://www.eightsleep.com/lex\">https://www.eightsleep.com/lex</a> to get special savings</p>\\n<p>Transcript: <a href=\"https://lexfridman.com/michael-malice-7-transcript\">https://lexfridman.com/michael-malice-7-transcript</a></p>\\n<p><b>EPISODE LINKS:</b><br />\\nMichael&#8217;s Twitter: <a href=\"https://twitter.com/michaelmalice\">https://twitter.com/michaelmalice</a><br />\\nMichael&#8217;s Community: <a href=\"https://malice.locals.com\">https://malice.locals.com</a><br />\\nMichael&#8217;s YouTube: <a href=\"https://www.youtube.com/MichaelMaliceofficial\">https://www.youtube.com/MichaelMaliceofficial</a><br />\\nMichael&#8217;s Website: <a href=\"http://michaelmalice.com/about\">http://michaelmalice.com/about</a><br />\\nYour Welcome podcast: <a href=\"https://bit.ly/30q8oz1\">https://bit.ly/30q8oz1</a><br />\\nJake Michael Singer (sculptor): <a href=\"https://instagram.com/jakemichaelsinger\">https://instagram.com/jakemichaelsinger</a><br />\\nBooks:<br />\\nThe White Pill: <a href=\"http://whitepillbook.com\">http://whitepillbook.com</a><br />\\nThe Anarchist Handbook: <a href=\"https://amzn.to/3yUb2f0\">https://amzn.to/3yUb2f0</a><br />\\nThe New Right: <a href=\"https://amzn.to/34gxLo3\">https://amzn.to/34gxLo3</a><br />\\nDear Reader: <a href=\"https://amzn.to/2HPPlHS\">https://amzn.to/2HPPlHS</a></p>\\n<p><b>PODCAST INFO:</b><br />\\nPodcast website: <a href=\"https://lexfridman.com/podcast\">https://lexfridman.com/podcast</a><br />\\nApple Podcasts: <a href=\"https://apple.co/2lwqZIr\">https://apple.co/2lwqZIr</a><br />\\nSpotify: <a href=\"https://spoti.fi/2nEwCF8\">https://spoti.fi/2nEwCF8</a><br />\\nRSS: <a href=\"https://lexfridman.com/feed/podcast/\">https://lexfridman.com/feed/podcast/</a><br />\\nYouTube Full Episodes: <a href=\"https://youtube.com/lexfridman\">https://youtube.com/lexfridman</a><br />\\nYouTube Clips: <a href=\"https://youtube.com/lexclips\">https://youtube.com/lexclips</a></p>\\n<p><b>SUPPORT &amp; CONNECT:</b><br />\\n&#8211; Check out the sponsors above, it&#8217;s the best way to support this podcast<br />\\n&#8211; Support on Patreon: <a href=\"https://www.patreon.com/lexfridman\">https://www.patreon.com/lexfridman</a><br />\\n&#8211; Twitter: <a href=\"https://twitter.com/lexfridman\">https://twitter.com/lexfridman</a><br />\\n&#8211; Instagram: <a href=\"https://www.instagram.com/lexfridman\">https://www.instagram.com/lexfridman</a><br />\\n&#8211; LinkedIn: <a href=\"https://www.linkedin.com/in/lexfridman\">https://www.linkedin.com/in/lexfridman</a><br />\\n&#8211; Facebook: <a href=\"https://www.facebook.com/lexfridman\">https://www.facebook.com/lexfridman</a><br />\\n&#8211; Medium: <a href=\"https://medium.com/@lexfridman\">https://medium.com/@lexfridman</a></p>\\n<p><b>OUTLINE:</b><br />\\nHere&#8217;s the timestamps for the episode. On some podcast players you should be able to click the timestamp to jump to that time.<br />\\n(00:00) &#8211; Introduction<br />\\n(10:15) &#8211; Beauty and mantis shrimp<br />\\n(14:43) &#8211; Parrots, Pirates, and Monty Python<br />\\n(20:55) &#8211; Humor and absurdity<br />\\n(28:16) &#8211; Thanksgiving<br />\\n(56:56) &#8211; Unboxing the mystery box<br />\\n(1:12:54) &#8211; Karl Marx and religion<br />\\n(1:21:11) &#8211; Art<br />\\n(1:25:25) &#8211; Books<br />\\n(1:38:02) &#8211; How to be happy<br />\\n(1:40:12) &#8211; Depression<br />\\n(1:41:15) &#8211; Fear<br />\\n(1:42:42) &#8211; Betrayal</p>\\n',\n",
       "  'duration': 6471,\n",
       "  'created_at': '2023-11-26',\n",
       "  'audio_url': 'https://media.blubrry.com/takeituneasy/content.blubrry.com/takeituneasy/lex_ai_michael_malice_7.mp3',\n",
       "  'image_url': 'https://lexfridman.com/wordpress/wp-content/uploads/powerpress/artwork_3000-230.png'},\n",
       " {'id': 53,\n",
       "  'title': '#401 – John Mearsheimer: Israel-Palestine, Russia-Ukraine, China, NATO, and WW3',\n",
       "  'description': '<p>John Mearsheimer is an international relations scholar at University of Chicago. He is one of the most influential and controversial thinkers in the world on the topics of war and power. Please support this podcast by checking out our sponsors:<br />\\n&#8211; <b>Notion</b>: <a href=\"https://notion.com\">https://notion.com</a><br />\\n&#8211; <b>ExpressVPN</b>: <a href=\"https://expressvpn.com/lexpod\">https://expressvpn.com/lexpod</a> to get 3 months free<br />\\n&#8211; <b>InsideTracker</b>: <a href=\"https://insidetracker.com/lex\">https://insidetracker.com/lex</a> to get 20% off<br />\\n&#8211; <b>Eight Sleep</b>: <a href=\"https://www.eightsleep.com/lex\">https://www.eightsleep.com/lex</a> to get special savings<br />\\n&#8211; <b>AG1</b>: <a href=\"https://drinkag1.com/lex\">https://drinkag1.com/lex</a> to get 1 month supply of fish oil</p>\\n<p>Transcript: <a href=\"https://lexfridman.com/john-mearsheimer-transcript\">https://lexfridman.com/john-mearsheimer-transcript</a></p>\\n<p><b>EPISODE LINKS:</b><br />\\nJohn&#8217;s Website: <a href=\"https://mearsheimer.com\">https://mearsheimer.com</a><br />\\nJohn&#8217;s Books:<br />\\nThe Tragedy of Great Power Politics: <a href=\"https://amzn.to/3FWrqkX\">https://amzn.to/3FWrqkX</a><br />\\nHow States Think: <a href=\"https://amzn.to/3udaWST\">https://amzn.to/3udaWST</a><br />\\nThe Great Delusion: <a href=\"https://amzn.to/3syXKXS\">https://amzn.to/3syXKXS</a><br />\\nWhy Leaders Lie: <a href=\"https://amzn.to/3ucs4rU\">https://amzn.to/3ucs4rU</a><br />\\nThe Israel Lobby: <a href=\"https://amzn.to/47fxrVU\">https://amzn.to/47fxrVU</a><br />\\nBooks Mentioned:<br />\\nLeviathan: <a href=\"https://amzn.to/49zCFgu\">https://amzn.to/49zCFgu</a><br />\\nThe End of History and the Last Man: <a href=\"https://amzn.to/47wTVBf\">https://amzn.to/47wTVBf</a><br />\\nWho Are We: <a href=\"https://amzn.to/3QXDk44\">https://amzn.to/3QXDk44</a></p>\\n<p><b>PODCAST INFO:</b><br />\\nPodcast website: <a href=\"https://lexfridman.com/podcast\">https://lexfridman.com/podcast</a><br />\\nApple Podcasts: <a href=\"https://apple.co/2lwqZIr\">https://apple.co/2lwqZIr</a><br />\\nSpotify: <a href=\"https://spoti.fi/2nEwCF8\">https://spoti.fi/2nEwCF8</a><br />\\nRSS: <a href=\"https://lexfridman.com/feed/podcast/\">https://lexfridman.com/feed/podcast/</a><br />\\nYouTube Full Episodes: <a href=\"https://youtube.com/lexfridman\">https://youtube.com/lexfridman</a><br />\\nYouTube Clips: <a href=\"https://youtube.com/lexclips\">https://youtube.com/lexclips</a></p>\\n<p><b>SUPPORT &amp; CONNECT:</b><br />\\n&#8211; Check out the sponsors above, it&#8217;s the best way to support this podcast<br />\\n&#8211; Support on Patreon: <a href=\"https://www.patreon.com/lexfridman\">https://www.patreon.com/lexfridman</a><br />\\n&#8211; Twitter: <a href=\"https://twitter.com/lexfridman\">https://twitter.com/lexfridman</a><br />\\n&#8211; Instagram: <a href=\"https://www.instagram.com/lexfridman\">https://www.instagram.com/lexfridman</a><br />\\n&#8211; LinkedIn: <a href=\"https://www.linkedin.com/in/lexfridman\">https://www.linkedin.com/in/lexfridman</a><br />\\n&#8211; Facebook: <a href=\"https://www.facebook.com/lexfridman\">https://www.facebook.com/lexfridman</a><br />\\n&#8211; Medium: <a href=\"https://medium.com/@lexfridman\">https://medium.com/@lexfridman</a></p>\\n<p><b>OUTLINE:</b><br />\\nHere&#8217;s the timestamps for the episode. On some podcast players you should be able to click the timestamp to jump to that time.<br />\\n(00:00) &#8211; Introduction<br />\\n(09:52) &#8211; Power<br />\\n(33:06) &#8211; Hitler<br />\\n(50:33) &#8211; Russia and Ukraine<br />\\n(1:46:45) &#8211; Israel and Palestine<br />\\n(2:47:37) &#8211; China<br />\\n(3:29:58) &#8211; Life and mortality</p>\\n',\n",
       "  'duration': 12913,\n",
       "  'created_at': '2023-11-18',\n",
       "  'audio_url': 'https://media.blubrry.com/takeituneasy/content.blubrry.com/takeituneasy/lex_ai_john_mearsheimer.mp3',\n",
       "  'image_url': 'https://lexfridman.com/wordpress/wp-content/uploads/powerpress/artwork_3000-230.png'},\n",
       " {'id': 54,\n",
       "  'title': '#400 – Elon Musk: War, AI, Aliens, Politics, Physics, Video Games, and Humanity',\n",
       "  'description': '<p>Elon Musk is CEO of X, xAI, SpaceX, Tesla, Neuralink, and The Boring Company.</p>\\n<p>Thank you for listening ❤ Please support this podcast by checking out our sponsors:<br />\\n&#8211; LMNT: <a href=\"https://drinkLMNT.com/lex\">https://drinkLMNT.com/lex</a> to get free sample pack<br />\\n&#8211; Eight Sleep: <a href=\"https://www.eightsleep.com/lex\">https://www.eightsleep.com/lex</a> to get special savings<br />\\n&#8211; BetterHelp: <a href=\"https://betterhelp.com/lex\">https://betterhelp.com/lex</a> to get 10% off<br />\\n&#8211; SimpliSafe: <a href=\"https://simplisafe.com/lex\">https://simplisafe.com/lex</a> to get free security camera plus 20% off<br />\\n&#8211; Shopify: <a href=\"https://shopify.com/lex\">https://shopify.com/lex</a> to get $1 per month trial<br />\\n&#8211; NetSuite: <a href=\"http://netsuite.com/lex\">http://netsuite.com/lex</a> to get free product tour</p>\\n<p>Transcript: <a href=\"https://lexfridman.com/elon-musk-4-transcript\">https://lexfridman.com/elon-musk-4-transcript</a></p>\\n<p><b>EPISODE LINKS:</b><br />\\nElon&#8217;s X: <a href=\"https://x.com/elonmusk\">https://x.com/elonmusk</a><br />\\nxAI: <a href=\"https://x.com/xai\">https://x.com/xai</a><br />\\nTesla: <a href=\"https://x.com/tesla\">https://x.com/tesla</a><br />\\nTesla Optimus: <a href=\"https://x.com/tesla_optimus\">https://x.com/tesla_optimus</a><br />\\nTesla AI: <a href=\"https://x.com/Tesla_AI\">https://x.com/Tesla_AI</a><br />\\nSpaceX: <a href=\"https://x.com/spacex\">https://x.com/spacex</a><br />\\nNeuralink: <a href=\"https://x.com/neuralink\">https://x.com/neuralink</a><br />\\nThe Boring Company: <a href=\"https://x.com/boringcompany\">https://x.com/boringcompany</a></p>\\n<p><b>PODCAST INFO:</b><br />\\nPodcast website: <a href=\"https://lexfridman.com/podcast\">https://lexfridman.com/podcast</a><br />\\nApple Podcasts: <a href=\"https://apple.co/2lwqZIr\">https://apple.co/2lwqZIr</a><br />\\nSpotify: <a href=\"https://spoti.fi/2nEwCF8\">https://spoti.fi/2nEwCF8</a><br />\\nRSS: <a href=\"https://lexfridman.com/feed/podcast/\">https://lexfridman.com/feed/podcast/</a><br />\\nYouTube Full Episodes: <a href=\"https://youtube.com/lexfridman\">https://youtube.com/lexfridman</a><br />\\nYouTube Clips: <a href=\"https://youtube.com/lexclips\">https://youtube.com/lexclips</a></p>\\n<p><b>SUPPORT &amp; CONNECT:</b><br />\\n&#8211; Check out the sponsors above, it&#8217;s the best way to support this podcast<br />\\n&#8211; Support on Patreon: <a href=\"https://www.patreon.com/lexfridman\">https://www.patreon.com/lexfridman</a><br />\\n&#8211; Twitter: <a href=\"https://twitter.com/lexfridman\">https://twitter.com/lexfridman</a><br />\\n&#8211; Instagram: <a href=\"https://www.instagram.com/lexfridman\">https://www.instagram.com/lexfridman</a><br />\\n&#8211; LinkedIn: <a href=\"https://www.linkedin.com/in/lexfridman\">https://www.linkedin.com/in/lexfridman</a><br />\\n&#8211; Facebook: <a href=\"https://www.facebook.com/lexfridman\">https://www.facebook.com/lexfridman</a><br />\\n&#8211; Medium: <a href=\"https://medium.com/@lexfridman\">https://medium.com/@lexfridman</a></p>\\n<p><b>OUTLINE:</b><br />\\nHere&#8217;s the timestamps for the episode. On some podcast players you should be able to click the timestamp to jump to that time.<br />\\n(00:00) &#8211; Introduction<br />\\n(10:25) &#8211; War and human nature<br />\\n(14:51) &#8211; Israel-Hamas war<br />\\n(20:59) &#8211; Military-Industrial Complex<br />\\n(25:16) &#8211; War in Ukraine<br />\\n(29:59) &#8211; China<br />\\n(44:15) &#8211; xAI Grok<br />\\n(55:13) &#8211; Aliens<br />\\n(1:03:13) &#8211; God<br />\\n(1:05:41) &#8211; Diablo 4 and video games<br />\\n(1:14:48) &#8211; Dystopian worlds: 1984 and Brave New World<br />\\n(1:20:59) &#8211; AI and useful compute per watt<br />\\n(1:26:40) &#8211; AI regulation<br />\\n(1:33:32) &#8211; Should AI be open-sourced?<br />\\n(1:40:54) &#8211; X algorithm<br />\\n(1:52:15) &#8211; 2024 presidential elections<br />\\n(2:05:14) &#8211; Politics<br />\\n(2:08:16) &#8211; Trust<br />\\n(2:13:47) &#8211; Tesla&#8217;s Autopilot and Optimus robot<br />\\n(2:22:46) &#8211; Hardships</p>\\n',\n",
       "  'duration': 8832,\n",
       "  'created_at': '2023-11-10',\n",
       "  'audio_url': 'https://media.blubrry.com/takeituneasy/content.blubrry.com/takeituneasy/lex_ai_elon_musk_4.mp3',\n",
       "  'image_url': 'https://lexfridman.com/wordpress/wp-content/uploads/powerpress/artwork_3000-230.png'},\n",
       " {'id': 55,\n",
       "  'title': '#399 – Jared Kushner: Israel, Palestine, Hamas, Gaza, Iran, and the Middle East',\n",
       "  'description': '<p>Jared Kushner is a former Senior Advisor to President Donald Trump and author of Breaking History. Please support this podcast by checking out our sponsors:<br />\\n&#8211; <b>InsideTracker</b>: <a href=\"https://insidetracker.com/lex\">https://insidetracker.com/lex</a> to get 20% off<br />\\n&#8211; <b>BetterHelp</b>: <a href=\"https://betterhelp.com/lex\">https://betterhelp.com/lex</a> to get 10% off<br />\\n&#8211; <b>Eight Sleep</b>: <a href=\"https://www.eightsleep.com/lex\">https://www.eightsleep.com/lex</a> to get special savings<br />\\n&#8211; <b>AG1</b>: <a href=\"https://drinkag1.com/lex\">https://drinkag1.com/lex</a> to get 1 month supply of fish oil</p>\\n<p>Transcript: <a href=\"https://lexfridman.com/jared-kushner-transcript\">https://lexfridman.com/jared-kushner-transcript</a></p>\\n<p><b>EPISODE LINKS:</b><br />\\nBreaking History (book): <a href=\"https://amzn.to/3QblTNk\">https://amzn.to/3QblTNk</a><br />\\nJared&#8217;s Twitter: <a href=\"https://twitter.com/jaredkushner\">https://twitter.com/jaredkushner</a><br />\\nJared&#8217;s Instagram: <a href=\"https://instagram.com/jaredckushner\">https://instagram.com/jaredckushner</a><br />\\nBooks Mentioned:<br />\\nPrisoners of Geography: <a href=\"https://amzn.to/3tubxzf\">https://amzn.to/3tubxzf</a><br />\\nThe Guns of August: <a href=\"https://amzn.to/3FbWD3c\">https://amzn.to/3FbWD3c</a><br />\\nThirteen Days in September: <a href=\"https://amzn.to/3Fb3EkM\">https://amzn.to/3Fb3EkM</a><br />\\nThe Great Degeneration: <a href=\"https://amzn.to/4921WQv\">https://amzn.to/4921WQv</a><br />\\nThe Hundred-Year Marathon: <a href=\"https://amzn.to/3LRobP7\">https://amzn.to/3LRobP7</a><br />\\nDestined for War: <a href=\"https://amzn.to/3rKwGEE\">https://amzn.to/3rKwGEE</a></p>\\n<p><b>PODCAST INFO:</b><br />\\nPodcast website: <a href=\"https://lexfridman.com/podcast\">https://lexfridman.com/podcast</a><br />\\nApple Podcasts: <a href=\"https://apple.co/2lwqZIr\">https://apple.co/2lwqZIr</a><br />\\nSpotify: <a href=\"https://spoti.fi/2nEwCF8\">https://spoti.fi/2nEwCF8</a><br />\\nRSS: <a href=\"https://lexfridman.com/feed/podcast/\">https://lexfridman.com/feed/podcast/</a><br />\\nYouTube Full Episodes: <a href=\"https://youtube.com/lexfridman\">https://youtube.com/lexfridman</a><br />\\nYouTube Clips: <a href=\"https://youtube.com/lexclips\">https://youtube.com/lexclips</a></p>\\n<p><b>SUPPORT &amp; CONNECT:</b><br />\\n&#8211; Check out the sponsors above, it&#8217;s the best way to support this podcast<br />\\n&#8211; Support on Patreon: <a href=\"https://www.patreon.com/lexfridman\">https://www.patreon.com/lexfridman</a><br />\\n&#8211; Twitter: <a href=\"https://twitter.com/lexfridman\">https://twitter.com/lexfridman</a><br />\\n&#8211; Instagram: <a href=\"https://www.instagram.com/lexfridman\">https://www.instagram.com/lexfridman</a><br />\\n&#8211; LinkedIn: <a href=\"https://www.linkedin.com/in/lexfridman\">https://www.linkedin.com/in/lexfridman</a><br />\\n&#8211; Facebook: <a href=\"https://www.facebook.com/lexfridman\">https://www.facebook.com/lexfridman</a><br />\\n&#8211; Medium: <a href=\"https://medium.com/@lexfridman\">https://medium.com/@lexfridman</a></p>\\n<p><b>OUTLINE:</b><br />\\nHere&#8217;s the timestamps for the episode. On some podcast players you should be able to click the timestamp to jump to that time.<br />\\n=== Recorded on Mon, Oct 9 ===<br />\\n(00:00) &#8211; Introduction<br />\\n(07:02) &#8211; Hamas attack on Israel<br />\\n(09:55) &#8211; Response to attack<br />\\n(16:14) &#8211; History of Hamas<br />\\n(18:54) &#8211; Iran<br />\\n(20:41) &#8211; Al-Aqsa Mosque<br />\\n(27:06) &#8211; Abraham Accords<br />\\n(36:00) &#8211; Trump vs Biden on Middle East<br />\\n(45:00) &#8211; Israeli-Saudi Normalization<br />\\n(49:12) &#8211; How the Israel-Gaza war ends<br />\\n(53:29) &#8211; Benjamin Netanyahu<br />\\n(57:06) &#8211; Palestinian support<br />\\n=== Recorded on Thu, Oct 5 ===<br />\\n(59:47) &#8211; Trump 2024<br />\\n(1:03:15) &#8211; Human nature<br />\\n(1:10:13) &#8211; Geopolitics and negotiation<br />\\n(1:18:56) &#8211; North Korea<br />\\n(1:27:35) &#8211; Personalities of leaders<br />\\n(1:34:11) &#8211; Government bureaucracy<br />\\n(1:39:56) &#8211; Accusations of collusion with Russia<br />\\n(1:49:35) &#8211; Ivanka<br />\\n(1:55:30) &#8211; Father<br />\\n(2:04:13) &#8211; Money and power<br />\\n(2:12:56) &#8211; Trust and betrayal<br />\\n(2:21:57) &#8211; Mohammed bin Salman<br />\\n(2:44:16) &#8211; Israeli–Palestinian peace process<br />\\n(2:58:47) &#8211; Abraham Accords and Arab-Israeli normalization<br />\\n(3:08:53) &#8211; Donald Trump<br />\\n(3:13:59) &#8211; War in Ukraine<br />\\n(3:19:14) &#8211; Vladimir Putin<br />\\n(3:26:33) &#8211; China<br />\\n(3:44:50) &#8211; Learning process<br />\\n(3:51:19) &#8211; Hope for the future</p>\\n',\n",
       "  'duration': 14055,\n",
       "  'created_at': '2023-10-12',\n",
       "  'audio_url': 'https://media.blubrry.com/takeituneasy/content.blubrry.com/takeituneasy/lex_ai_jared_kushner.mp3',\n",
       "  'image_url': 'https://lexfridman.com/wordpress/wp-content/uploads/powerpress/artwork_3000-230.png'},\n",
       " {'id': 56,\n",
       "  'title': '#398 – Mark Zuckerberg: First Interview in the Metaverse',\n",
       "  'description': '<p>Mark Zuckerberg is CEO of Meta. Please support this podcast by checking out our sponsors:<br />\\n&#8211; <b>LMNT</b>: <a href=\"https://drinkLMNT.com/lex\">https://drinkLMNT.com/lex</a> to get free sample pack<br />\\n&#8211; <b>InsideTracker</b>: <a href=\"https://insidetracker.com/lex\">https://insidetracker.com/lex</a> to get 20% off<br />\\n&#8211; <b>Eight Sleep</b>: <a href=\"https://www.eightsleep.com/lex\">https://www.eightsleep.com/lex</a> to get special savings<br />\\n&#8211; <b>AG1</b>: <a href=\"https://drinkag1.com/lex\">https://drinkag1.com/lex</a> to get 1 month supply of fish oil<br />\\n&#8211; <b>NetSuite</b>: <a href=\"http://netsuite.com/lex\">http://netsuite.com/lex</a> to get free product tour</p>\\n<p>Transcript: <a href=\"https://lexfridman.com/mark-zuckerberg-3-transcript\">https://lexfridman.com/mark-zuckerberg-3-transcript</a></p>\\n<p><b>EPISODE LINKS:</b><br />\\nMark&#8217;s Facebook: <a href=\"https://facebook.com/zuck\">https://facebook.com/zuck</a><br />\\nMark&#8217;s Instagram: <a href=\"https://instagram.com/zuck\">https://instagram.com/zuck</a><br />\\nMark&#8217;s Threads: <a href=\"https://threads.net/@zuck\">https://threads.net/@zuck</a><br />\\nMeta AI: <a href=\"https://ai.meta.com/\">https://ai.meta.com/</a><br />\\nMeta Quest: <a href=\"https://www.meta.com/quest/\">https://www.meta.com/quest/</a><br />\\nMeta Connect 2023: <a href=\"https://www.metaconnect.com\">https://www.metaconnect.com</a></p>\\n<p><b>PODCAST INFO:</b><br />\\nPodcast website: <a href=\"https://lexfridman.com/podcast\">https://lexfridman.com/podcast</a><br />\\nApple Podcasts: <a href=\"https://apple.co/2lwqZIr\">https://apple.co/2lwqZIr</a><br />\\nSpotify: <a href=\"https://spoti.fi/2nEwCF8\">https://spoti.fi/2nEwCF8</a><br />\\nRSS: <a href=\"https://lexfridman.com/feed/podcast/\">https://lexfridman.com/feed/podcast/</a><br />\\nYouTube Full Episodes: <a href=\"https://youtube.com/lexfridman\">https://youtube.com/lexfridman</a><br />\\nYouTube Clips: <a href=\"https://youtube.com/lexclips\">https://youtube.com/lexclips</a></p>\\n<p><b>SUPPORT &amp; CONNECT:</b><br />\\n&#8211; Check out the sponsors above, it&#8217;s the best way to support this podcast<br />\\n&#8211; Support on Patreon: <a href=\"https://www.patreon.com/lexfridman\">https://www.patreon.com/lexfridman</a><br />\\n&#8211; Twitter: <a href=\"https://twitter.com/lexfridman\">https://twitter.com/lexfridman</a><br />\\n&#8211; Instagram: <a href=\"https://www.instagram.com/lexfridman\">https://www.instagram.com/lexfridman</a><br />\\n&#8211; LinkedIn: <a href=\"https://www.linkedin.com/in/lexfridman\">https://www.linkedin.com/in/lexfridman</a><br />\\n&#8211; Facebook: <a href=\"https://www.facebook.com/lexfridman\">https://www.facebook.com/lexfridman</a><br />\\n&#8211; Medium: <a href=\"https://medium.com/@lexfridman\">https://medium.com/@lexfridman</a></p>\\n<p><b>OUTLINE:</b><br />\\nHere&#8217;s the timestamps for the episode. On some podcast players you should be able to click the timestamp to jump to that time.<br />\\n(00:00) &#8211; Introduction<br />\\n(08:38) &#8211; Metaverse<br />\\n(23:01) &#8211; Quest 3<br />\\n(37:50) &#8211; Nature of reality<br />\\n(42:28) &#8211; AI in the Metaverse<br />\\n(59:26) &#8211; Large language models<br />\\n(1:05:23) &#8211; Future of humanity</p>\\n',\n",
       "  'duration': 4324,\n",
       "  'created_at': '2023-09-29',\n",
       "  'audio_url': 'https://media.blubrry.com/takeituneasy/content.blubrry.com/takeituneasy/lex_ai_mark_zuckerberg_3.mp3',\n",
       "  'image_url': 'https://lexfridman.com/wordpress/wp-content/uploads/powerpress/artwork_3000-230.png'},\n",
       " {'id': 57,\n",
       "  'title': '#397 – Greg Lukianoff: Cancel Culture, Deplatforming, Censorship & Free Speech',\n",
       "  'description': '<p>Greg Lukianoff is a free speech advocate, first-amendment attorney, president of FIRE &#8211; Foundation for Individual Rights and Expression, and co-author of The Coddling of the American Mind and a new book The Canceling of the American Mind. Please support this podcast by checking out our sponsors:<br />\\n&#8211; <b>Policygenius</b>: <a href=\"https://www.policygenius.com/\">https://www.policygenius.com/</a><br />\\n&#8211; <b>Babbel</b>: <a href=\"https://babbel.com/lexpod\">https://babbel.com/lexpod</a> and use code Lexpod to get 55% off<br />\\n&#8211; <b>BetterHelp</b>: <a href=\"https://betterhelp.com/lex\">https://betterhelp.com/lex</a> to get 10% off<br />\\n&#8211; <b>InsideTracker</b>: <a href=\"https://insidetracker.com/lex\">https://insidetracker.com/lex</a> to get 20% off<br />\\n&#8211; <b>ExpressVPN</b>: <a href=\"https://expressvpn.com/lexpod\">https://expressvpn.com/lexpod</a> to get 3 months free</p>\\n<p>Transcript: <a href=\"https://lexfridman.com/greg-lukianoff-transcript\">https://lexfridman.com/greg-lukianoff-transcript</a></p>\\n<p><b>EPISODE LINKS:</b><br />\\nGreg&#8217;s Twitter: <a href=\"https://twitter.com/glukianoff\">https://twitter.com/glukianoff</a><br />\\nGreg&#8217;s Instagram: <a href=\"https://instagram.com/glukianoff\">https://instagram.com/glukianoff</a><br />\\nFIRE: <a href=\"https://thefire.org/\">https://thefire.org/</a><br />\\nFIRE on Twitter: <a href=\"https://twitter.com/TheFIREorg\">https://twitter.com/TheFIREorg</a><br />\\n*** Greg&#8217;s Books ***<br />\\nThe Canceling of the American Mind: <a href=\"https://amzn.to/464yasg\">https://amzn.to/464yasg</a><br />\\nThe Coddling of the American Mind: <a href=\"https://amzn.to/3EL48hj\">https://amzn.to/3EL48hj</a><br />\\nFreedom from Speech: <a href=\"https://amzn.to/3rhrdVN\">https://amzn.to/3rhrdVN</a><br />\\nUnlearning Liberty: <a href=\"https://amzn.to/3rlFnoN\">https://amzn.to/3rlFnoN</a><br />\\n*** Books Mentioned ***<br />\\nThe Closing of the American Mind: <a href=\"https://amzn.to/4638KuX\">https://amzn.to/4638KuX</a><br />\\nThe Origins of Political Order: <a href=\"https://amzn.to/464zkE8\">https://amzn.to/464zkE8</a><br />\\nSo You&#8217;ve Been Publicly Shamed: <a href=\"https://amzn.to/48nm1Af\">https://amzn.to/48nm1Af</a><br />\\nRacial Paranoia: <a href=\"https://amzn.to/3RzyY3U\">https://amzn.to/3RzyY3U</a><br />\\nWhy Buddhism Is True: <a href=\"https://amzn.to/3t4R5Vk\">https://amzn.to/3t4R5Vk</a><br />\\nSpeaking Freely: <a href=\"https://amzn.to/3Zr64oG\">https://amzn.to/3Zr64oG</a></p>\\n<p><b>PODCAST INFO:</b><br />\\nPodcast website: <a href=\"https://lexfridman.com/podcast\">https://lexfridman.com/podcast</a><br />\\nApple Podcasts: <a href=\"https://apple.co/2lwqZIr\">https://apple.co/2lwqZIr</a><br />\\nSpotify: <a href=\"https://spoti.fi/2nEwCF8\">https://spoti.fi/2nEwCF8</a><br />\\nRSS: <a href=\"https://lexfridman.com/feed/podcast/\">https://lexfridman.com/feed/podcast/</a><br />\\nYouTube Full Episodes: <a href=\"https://youtube.com/lexfridman\">https://youtube.com/lexfridman</a><br />\\nYouTube Clips: <a href=\"https://youtube.com/lexclips\">https://youtube.com/lexclips</a></p>\\n<p><b>SUPPORT &amp; CONNECT:</b><br />\\n&#8211; Check out the sponsors above, it&#8217;s the best way to support this podcast<br />\\n&#8211; Support on Patreon: <a href=\"https://www.patreon.com/lexfridman\">https://www.patreon.com/lexfridman</a><br />\\n&#8211; Twitter: <a href=\"https://twitter.com/lexfridman\">https://twitter.com/lexfridman</a><br />\\n&#8211; Instagram: <a href=\"https://www.instagram.com/lexfridman\">https://www.instagram.com/lexfridman</a><br />\\n&#8211; LinkedIn: <a href=\"https://www.linkedin.com/in/lexfridman\">https://www.linkedin.com/in/lexfridman</a><br />\\n&#8211; Facebook: <a href=\"https://www.facebook.com/lexfridman\">https://www.facebook.com/lexfridman</a><br />\\n&#8211; Medium: <a href=\"https://medium.com/@lexfridman\">https://medium.com/@lexfridman</a></p>\\n<p><b>OUTLINE:</b><br />\\nHere&#8217;s the timestamps for the episode. On some podcast players you should be able to click the timestamp to jump to that time.<br />\\n(00:00) &#8211; Introduction<br />\\n(10:49) &#8211; Cancel culture &amp; freedom of speech<br />\\n(25:21) &#8211; Left-wing vs right-wing cancel culture<br />\\n(34:06) &#8211; Religion<br />\\n(36:46) &#8211; College rankings by freedom of speech<br />\\n(42:54) &#8211; Deplatforming<br />\\n(57:29) &#8211; Whataboutism<br />\\n(1:02:32) &#8211; Steelmanning<br />\\n(1:10:08) &#8211; How the left argues<br />\\n(1:20:48) &#8211; Diversity, equity, and inclusion<br />\\n(1:32:39) &#8211; Why colleges lean left<br />\\n(1:40:17) &#8211; How the right argues<br />\\n(1:44:52) &#8211; Hate speech<br />\\n(1:53:39) &#8211; Platforming<br />\\n(2:03:10) &#8211; Social media<br />\\n(2:24:17) &#8211; Depression<br />\\n(2:35:48) &#8211; Hope</p>\\n',\n",
       "  'duration': 0,\n",
       "  'created_at': '2023-09-25',\n",
       "  'audio_url': 'https://media.blubrry.com/takeituneasy/content.blubrry.com/takeituneasy/lex_ai_greg_lukianoff.mp3',\n",
       "  'image_url': 'https://lexfridman.com/wordpress/wp-content/uploads/powerpress/artwork_3000-230.png'},\n",
       " {'id': 58,\n",
       "  'title': '#396 – James Sexton: Divorce Lawyer on Marriage, Relationships, Sex, Lies & Love',\n",
       "  'description': '<p>James Sexton is a divorce attorney and author. Please support this podcast by checking out our sponsors:<br />\\n&#8211; <b>Eight Sleep</b>: <a href=\"https://www.eightsleep.com/lex\">https://www.eightsleep.com/lex</a> to get special savings<br />\\n&#8211; <b>InsideTracker</b>: <a href=\"https://insidetracker.com/lex\">https://insidetracker.com/lex</a> to get 20% off<br />\\n&#8211; <b>House of Macadamias</b>: <a href=\"https://houseofmacadamias.com/lex\">https://houseofmacadamias.com/lex</a> and use code LEX to get 20% off first order<br />\\n&#8211; <b>MasterClass</b>: <a href=\"https://masterclass.com/lexpod\">https://masterclass.com/lexpod</a> to get 15% off<br />\\n&#8211; <b>AG1</b>: <a href=\"https://drinkag1.com/lex\">https://drinkag1.com/lex</a> to get 1 month supply of fish oil</p>\\n<p>Transcript: <a href=\"https://lexfridman.com/james-sexton-transcript\">https://lexfridman.com/james-sexton-transcript</a></p>\\n<p><b>EPISODE LINKS:</b><br />\\nJames&#8217;s Twitter: <a href=\"https://twitter.com/nycdivorcelaw\">https://twitter.com/nycdivorcelaw</a><br />\\nJames&#8217;s Instagram: <a href=\"https://instagram.com/nycdivorcelawyer\">https://instagram.com/nycdivorcelawyer</a><br />\\nJames&#8217;s Website: <a href=\"https://nycdivorces.com/our-attorneys\">https://nycdivorces.com/our-attorneys</a><br />\\nHow to Stay in Love (book): <a href=\"https://amzn.to/3t61uji\">https://amzn.to/3t61uji</a><br />\\nIf You&#8217;re in My Office, It&#8217;s Already Too Late (audiobook): <a href=\"https://amzn.to/3PkVECg\">https://amzn.to/3PkVECg</a></p>\\n<p><b>PODCAST INFO:</b><br />\\nPodcast website: <a href=\"https://lexfridman.com/podcast\">https://lexfridman.com/podcast</a><br />\\nApple Podcasts: <a href=\"https://apple.co/2lwqZIr\">https://apple.co/2lwqZIr</a><br />\\nSpotify: <a href=\"https://spoti.fi/2nEwCF8\">https://spoti.fi/2nEwCF8</a><br />\\nRSS: <a href=\"https://lexfridman.com/feed/podcast/\">https://lexfridman.com/feed/podcast/</a><br />\\nYouTube Full Episodes: <a href=\"https://youtube.com/lexfridman\">https://youtube.com/lexfridman</a><br />\\nYouTube Clips: <a href=\"https://youtube.com/lexclips\">https://youtube.com/lexclips</a></p>\\n<p><b>SUPPORT &amp; CONNECT:</b><br />\\n&#8211; Check out the sponsors above, it&#8217;s the best way to support this podcast<br />\\n&#8211; Support on Patreon: <a href=\"https://www.patreon.com/lexfridman\">https://www.patreon.com/lexfridman</a><br />\\n&#8211; Twitter: <a href=\"https://twitter.com/lexfridman\">https://twitter.com/lexfridman</a><br />\\n&#8211; Instagram: <a href=\"https://www.instagram.com/lexfridman\">https://www.instagram.com/lexfridman</a><br />\\n&#8211; LinkedIn: <a href=\"https://www.linkedin.com/in/lexfridman\">https://www.linkedin.com/in/lexfridman</a><br />\\n&#8211; Facebook: <a href=\"https://www.facebook.com/lexfridman\">https://www.facebook.com/lexfridman</a><br />\\n&#8211; Medium: <a href=\"https://medium.com/@lexfridman\">https://medium.com/@lexfridman</a></p>\\n<p><b>OUTLINE:</b><br />\\nHere&#8217;s the timestamps for the episode. On some podcast players you should be able to click the timestamp to jump to that time.<br />\\n(00:00) &#8211; Introduction<br />\\n(09:01) &#8211; Why marriages fail<br />\\n(30:32) &#8211; Sex and fetishes<br />\\n(39:49) &#8211; Breakups<br />\\n(1:05:35) &#8211; Johnny Depp and Amber Heard<br />\\n(1:25:36) &#8211; Complicated divorce cases<br />\\n(1:32:22) &#8211; Cheating with the nanny<br />\\n(1:34:39) &#8211; Relationship advice<br />\\n(1:43:20) &#8211; Cost of divorce<br />\\n(2:05:11) &#8211; Prenups<br />\\n(2:19:33) &#8211; Cheating<br />\\n(2:27:17) &#8211; Open marriages and threesomes<br />\\n(2:40:05) &#8211; Sex and fighting<br />\\n(3:05:00) &#8211; Kevin Costner&#8217;s divorce<br />\\n(3:14:44) &#8211; Lying<br />\\n(3:22:12) &#8211; Productivity<br />\\n(3:30:06) &#8211; Jiu Jitsu<br />\\n(3:38:38) &#8211; Sex, love, and marriage</p>\\n',\n",
       "  'duration': 13871,\n",
       "  'created_at': '2023-09-18',\n",
       "  'audio_url': 'https://media.blubrry.com/takeituneasy/content.blubrry.com/takeituneasy/lex_ai_james_sexton.mp3',\n",
       "  'image_url': 'https://lexfridman.com/wordpress/wp-content/uploads/powerpress/artwork_3000-230.png'},\n",
       " {'id': 59,\n",
       "  'title': '#395 – Walter Isaacson: Elon Musk, Steve Jobs, Einstein, Da Vinci & Ben Franklin',\n",
       "  'description': '<p>Walter Isaacson is an author of biographies on Elon Musk, Steve Jobs, Einstein, Benjamin Franklin, Leonardo da Vinci, and many others. Please support this podcast by checking out our sponsors:<br />\\n&#8211; <b>MasterClass</b>: <a href=\"https://masterclass.com/lexpod\">https://masterclass.com/lexpod</a> to get 15% off<br />\\n&#8211; <b>NetSuite</b>: <a href=\"http://netsuite.com/lex\">http://netsuite.com/lex</a> to get free product tour<br />\\n&#8211; <b>BetterHelp</b>: <a href=\"https://betterhelp.com/lex\">https://betterhelp.com/lex</a> to get 10% off<br />\\n&#8211; <b>ExpressVPN</b>: <a href=\"https://expressvpn.com/lexpod\">https://expressvpn.com/lexpod</a> to get 3 months free<br />\\n&#8211; <b>Shopify</b>: <a href=\"https://shopify.com/lex\">https://shopify.com/lex</a> to get $1 per month trial</p>\\n<p>Transcript: <a href=\"https://lexfridman.com/walter-isaacson-transcript\">https://lexfridman.com/walter-isaacson-transcript</a></p>\\n<p><b>EPISODE LINKS:</b><br />\\nWalter&#8217;s Twitter: <a href=\"https://twitter.com/WalterIsaacson\">https://twitter.com/WalterIsaacson</a><br />\\nWalter&#8217;s Instagram: <a href=\"https://www.instagram.com/walter_isaacson\">https://www.instagram.com/walter_isaacson</a><br />\\nWalter&#8217;s Website: <a href=\"https://isaacson.tulane.edu\">https://isaacson.tulane.edu</a><br />\\nWalter&#8217;s Books:<br />\\nElon Musk: <a href=\"https://amzn.to/48aWSZC\">https://amzn.to/48aWSZC</a><br />\\nThe Code Breaker: <a href=\"https://amzn.to/3EAa0cU\">https://amzn.to/3EAa0cU</a><br />\\nLeonardo da Vinci: <a href=\"https://amzn.to/3RlFICB\">https://amzn.to/3RlFICB</a><br />\\nThe Innovators: <a href=\"https://amzn.to/45R8gs4\">https://amzn.to/45R8gs4</a><br />\\nSteve Jobs: <a href=\"https://amzn.to/3P9Ak2B\">https://amzn.to/3P9Ak2B</a><br />\\nAmerican Sketches: <a href=\"https://amzn.to/45LM4PN\">https://amzn.to/45LM4PN</a><br />\\nEinstein: <a href=\"https://amzn.to/3r6Ttu6\">https://amzn.to/3r6Ttu6</a><br />\\nBenjamin Franklin: <a href=\"https://amzn.to/44NobWW\">https://amzn.to/44NobWW</a><br />\\nKissinger: <a href=\"https://amzn.to/3RdTA1u\">https://amzn.to/3RdTA1u</a><br />\\nThe Wise Men: <a href=\"https://amzn.to/45LQDJX\">https://amzn.to/45LQDJX</a></p>\\n<p><b>PODCAST INFO:</b><br />\\nPodcast website: <a href=\"https://lexfridman.com/podcast\">https://lexfridman.com/podcast</a><br />\\nApple Podcasts: <a href=\"https://apple.co/2lwqZIr\">https://apple.co/2lwqZIr</a><br />\\nSpotify: <a href=\"https://spoti.fi/2nEwCF8\">https://spoti.fi/2nEwCF8</a><br />\\nRSS: <a href=\"https://lexfridman.com/feed/podcast/\">https://lexfridman.com/feed/podcast/</a><br />\\nYouTube Full Episodes: <a href=\"https://youtube.com/lexfridman\">https://youtube.com/lexfridman</a><br />\\nYouTube Clips: <a href=\"https://youtube.com/lexclips\">https://youtube.com/lexclips</a></p>\\n<p><b>SUPPORT &amp; CONNECT:</b><br />\\n&#8211; Check out the sponsors above, it&#8217;s the best way to support this podcast<br />\\n&#8211; Support on Patreon: <a href=\"https://www.patreon.com/lexfridman\">https://www.patreon.com/lexfridman</a><br />\\n&#8211; Twitter: <a href=\"https://twitter.com/lexfridman\">https://twitter.com/lexfridman</a><br />\\n&#8211; Instagram: <a href=\"https://www.instagram.com/lexfridman\">https://www.instagram.com/lexfridman</a><br />\\n&#8211; LinkedIn: <a href=\"https://www.linkedin.com/in/lexfridman\">https://www.linkedin.com/in/lexfridman</a><br />\\n&#8211; Facebook: <a href=\"https://www.facebook.com/lexfridman\">https://www.facebook.com/lexfridman</a><br />\\n&#8211; Medium: <a href=\"https://medium.com/@lexfridman\">https://medium.com/@lexfridman</a></p>\\n<p><b>OUTLINE:</b><br />\\nHere&#8217;s the timestamps for the episode. On some podcast players you should be able to click the timestamp to jump to that time.<br />\\n(00:00) &#8211; Introduction<br />\\n(10:42) &#8211; Difficult childhood<br />\\n(27:47) &#8211; Jennifer Doudna<br />\\n(30:44) &#8211; Einstein<br />\\n(36:02) &#8211; Tesla<br />\\n(53:07) &#8211; Elon Musk&#8217;s humor<br />\\n(57:17) &#8211; Steve Jobs&#8217; cruelty<br />\\n(1:00:41) &#8211; Twitter<br />\\n(1:12:50) &#8211; Firing<br />\\n(1:15:35) &#8211; Hiring<br />\\n(1:24:38) &#8211; Time management<br />\\n(1:32:22) &#8211; Groups vs individuals<br />\\n(1:36:08) &#8211; Mortality<br />\\n(1:39:40) &#8211; How to write<br />\\n(2:00:38) &#8211; Love &amp; relationships<br />\\n(2:05:33) &#8211; Advice for young people</p>\\n',\n",
       "  'duration': 0,\n",
       "  'created_at': '2023-09-11',\n",
       "  'audio_url': 'https://media.blubrry.com/takeituneasy/content.blubrry.com/takeituneasy/lex_ai_walter_isaacson.mp3',\n",
       "  'image_url': 'https://lexfridman.com/wordpress/wp-content/uploads/powerpress/artwork_3000-230.png'},\n",
       " {'id': 60,\n",
       "  'title': '#394 – Neri Oxman: Biology, Art, and Science of Design & Engineering with Nature',\n",
       "  'description': '<p>Neri Oxman is a designer, engineer, scientist, and artist working on computational design, synthetic biology and digital fabrication, previously at MIT, and now at OXMAN. Please support this podcast by checking out our sponsors:<br />\\n&#8211; <b>Babbel</b>: <a href=\"https://babbel.com/lexpod\">https://babbel.com/lexpod</a> and use code Lexpod to get 55% off<br />\\n&#8211; <b>BetterHelp</b>: <a href=\"https://betterhelp.com/lex\">https://betterhelp.com/lex</a> to get 10% off<br />\\n&#8211; <b>House of Macadamias</b>: <a href=\"https://houseofmacadamias.com/lex\">https://houseofmacadamias.com/lex</a> and use code LEX to get 20% off first order<br />\\n&#8211; <b>InsideTracker</b>: <a href=\"https://insidetracker.com/lex\">https://insidetracker.com/lex</a> to get 20% off<br />\\n&#8211; <b>ExpressVPN</b>: <a href=\"https://expressvpn.com/lexpod\">https://expressvpn.com/lexpod</a> to get 3 months free</p>\\n<p>Transcript: <a href=\"https://lexfridman.com/neri-oxman-transcript\">https://lexfridman.com/neri-oxman-transcript</a></p>\\n<p><b>EPISODE LINKS:</b><br />\\nNeri&#8217;s Twitter: <a href=\"https://twitter.com/nerioxman\">https://twitter.com/nerioxman</a><br />\\nOXMAN Website: <a href=\"https://oxman.com/\">https://oxman.com/</a><br />\\nOXMAN Instagram: <a href=\"https://instagram.com/oxmanofficial\">https://instagram.com/oxmanofficial</a></p>\\n<p><b>PODCAST INFO:</b><br />\\nPodcast website: <a href=\"https://lexfridman.com/podcast\">https://lexfridman.com/podcast</a><br />\\nApple Podcasts: <a href=\"https://apple.co/2lwqZIr\">https://apple.co/2lwqZIr</a><br />\\nSpotify: <a href=\"https://spoti.fi/2nEwCF8\">https://spoti.fi/2nEwCF8</a><br />\\nRSS: <a href=\"https://lexfridman.com/feed/podcast/\">https://lexfridman.com/feed/podcast/</a><br />\\nYouTube Full Episodes: <a href=\"https://youtube.com/lexfridman\">https://youtube.com/lexfridman</a><br />\\nYouTube Clips: <a href=\"https://youtube.com/lexclips\">https://youtube.com/lexclips</a></p>\\n<p><b>SUPPORT &#038; CONNECT:</b><br />\\n&#8211; Check out the sponsors above, it&#8217;s the best way to support this podcast<br />\\n&#8211; Support on Patreon: <a href=\"https://www.patreon.com/lexfridman\">https://www.patreon.com/lexfridman</a><br />\\n&#8211; Twitter: <a href=\"https://twitter.com/lexfridman\">https://twitter.com/lexfridman</a><br />\\n&#8211; Instagram: <a href=\"https://www.instagram.com/lexfridman\">https://www.instagram.com/lexfridman</a><br />\\n&#8211; LinkedIn: <a href=\"https://www.linkedin.com/in/lexfridman\">https://www.linkedin.com/in/lexfridman</a><br />\\n&#8211; Facebook: <a href=\"https://www.facebook.com/lexfridman\">https://www.facebook.com/lexfridman</a><br />\\n&#8211; Medium: <a href=\"https://medium.com/@lexfridman\">https://medium.com/@lexfridman</a></p>\\n<p><b>OUTLINE:</b><br />\\nHere&#8217;s the timestamps for the episode. On some podcast players you should be able to click the timestamp to jump to that time.<br />\\n(00:00) &#8211; Introduction<br />\\n(09:06) &#8211; Biomass vs anthropomass<br />\\n(23:27) &#8211; Computational templates<br />\\n(43:42) &#8211; Biological hero organisms<br />\\n(54:42) &#8211; Engineering with bacteria<br />\\n(1:02:59) &#8211; Plant communication<br />\\n(1:16:22) &#8211; Albert Einstein letter<br />\\n(1:19:44) &#8211; Beauty<br />\\n(1:24:40) &#8211; Faith<br />\\n(1:34:26) &#8211; Flaws<br />\\n(1:54:15) &#8211; Extinction<br />\\n(2:05:22) &#8211; Alien life<br />\\n(2:09:12) &#8211; Music<br />\\n(2:10:39) &#8211; Movies<br />\\n(2:15:11) &#8211; Advice for young people</p>\\n',\n",
       "  'duration': 8750,\n",
       "  'created_at': '2023-09-02',\n",
       "  'audio_url': 'https://media.blubrry.com/takeituneasy/content.blubrry.com/takeituneasy/lex_ai_neri_oxman.mp3',\n",
       "  'image_url': 'https://lexfridman.com/wordpress/wp-content/uploads/powerpress/artwork_3000-230.png'}]"
      ]
     },
     "execution_count": 68,
     "metadata": {},
     "output_type": "execute_result"
    }
   ],
   "source": [
    "episode_response.data"
   ]
  },
  {
   "cell_type": "code",
   "execution_count": 69,
   "metadata": {},
   "outputs": [
    {
     "data": {
      "text/plain": [
       "[51, 52, 53, 54, 55, 56, 57, 58, 59, 60]"
      ]
     },
     "execution_count": 69,
     "metadata": {},
     "output_type": "execute_result"
    }
   ],
   "source": [
    "episode_ids =[episode['id'] for episode in episode_response.data]\n",
    "episode_ids"
   ]
  },
  {
   "cell_type": "code",
   "execution_count": 70,
   "metadata": {},
   "outputs": [],
   "source": [
    "podcast_id = 4"
   ]
  },
  {
   "cell_type": "code",
   "execution_count": 71,
   "metadata": {},
   "outputs": [],
   "source": [
    "def insert_podcast_episodes(podcast_id, episode_ids):\n",
    "    return (supabase.table(\"episode_podcast\").insert([{\n",
    "        \"podcast_id\": podcast_id,\n",
    "        \"episode_id\": episode_id\n",
    "    } for episode_id in episode_ids]).execute())"
   ]
  },
  {
   "cell_type": "code",
   "execution_count": 72,
   "metadata": {},
   "outputs": [],
   "source": [
    "relationship_response = insert_podcast_episodes(podcast_id, episode_ids)"
   ]
  },
  {
   "cell_type": "code",
   "execution_count": null,
   "metadata": {},
   "outputs": [],
   "source": []
  }
 ],
 "metadata": {
  "kernelspec": {
   "display_name": "venv",
   "language": "python",
   "name": "python3"
  },
  "language_info": {
   "codemirror_mode": {
    "name": "ipython",
    "version": 3
   },
   "file_extension": ".py",
   "mimetype": "text/x-python",
   "name": "python",
   "nbconvert_exporter": "python",
   "pygments_lexer": "ipython3",
   "version": "3.10.14"
  }
 },
 "nbformat": 4,
 "nbformat_minor": 2
}
