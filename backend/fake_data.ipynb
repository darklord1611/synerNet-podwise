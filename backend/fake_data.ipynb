{
 "cells": [
  {
   "cell_type": "code",
   "execution_count": 1,
   "metadata": {},
   "outputs": [],
   "source": [
    "\n",
    "from fastapi import APIRouter\n",
    "from supabase import create_client, Client\n",
    "from config import SUPABASE_URL, SUPABASE_KEY, PODCAST_API_KEY, PODCAST_USER_ID, PODCAST_API_URL\n",
    "import requests\n",
    "\n",
    "supabase: Client = create_client(SUPABASE_URL, SUPABASE_KEY)"
   ]
  },
  {
   "cell_type": "code",
   "execution_count": 2,
   "metadata": {},
   "outputs": [],
   "source": [
    "sample_headers = {\n",
    "    \"Content-Type\": \"application/json\",\n",
    "    \"X-USER-ID\": PODCAST_USER_ID,\n",
    "    \"X-API-KEY\": PODCAST_API_KEY\n",
    "}"
   ]
  },
  {
   "cell_type": "code",
   "execution_count": 18,
   "metadata": {},
   "outputs": [],
   "source": [
    "def get_podcast_data(podcast_name = \"Lex Fridman\"):\n",
    "    podcast_request_body = f\"\"\"{{\n",
    "        getPodcastSeries(name: \"Huberman Lab\") {{\n",
    "        uuid\n",
    "        name\n",
    "        authorName\n",
    "        imageUrl\n",
    "        description\n",
    "        episodes(page: 1, limitPerPage: 10) {{\n",
    "            uuid\n",
    "            datePublished\n",
    "            name\n",
    "            description\n",
    "            duration\n",
    "            imageUrl\n",
    "            audioUrl\n",
    "        }}\n",
    "        genres\n",
    "    }}\n",
    "    }}\n",
    "    \"\"\"\n",
    "    json_request = {\"query\": podcast_request_body}\n",
    "    res = requests.post(PODCAST_API_URL, headers=sample_headers, json=json_request)\n",
    "    return res.json()"
   ]
  },
  {
   "cell_type": "code",
   "execution_count": 19,
   "metadata": {},
   "outputs": [],
   "source": [
    "res = get_podcast_data()"
   ]
  },
  {
   "cell_type": "code",
   "execution_count": 20,
   "metadata": {},
   "outputs": [
    {
     "data": {
      "text/plain": [
       "[{'uuid': 'deff7085-bd0b-4119-be10-5e20af84e2dc',\n",
       "  'datePublished': 1725868800,\n",
       "  'name': 'Dr. Marc Brackett: How to Increase Your Emotional Intelligence',\n",
       "  'description': '<p>In this episode, my guest is <a href=\"https://marcbrackett.com/\">Dr. Marc Brackett, Ph.D.</a>, a professor in the Child Study Center at Yale University, director of the Yale Center for Emotional Intelligence, and a world expert on what emotions are, how to interpret them, and how to work with emotions to yield a more impactful, meaningful and healthier life. We explore differences between introverts and extroverts, in-person and text-based emotional communication, and how emotional suppression impacts us.</p><p>We discuss emotional intelligence and describe tools to improve emotional regulation and communication in personal and professional relationships. We also explore the role of emotions in learning, resolving conflicts, and decision-making. We also discuss bullying in kids and adults, both in person and online. This episode provides a clear and novel framework for thinking about emotions and data-supported tools to improve emotion regulation, self-awareness, and empathic attunement.</p><p>Access the full show notes, including referenced articles, books, people mentioned, and additional resources at <a href=\"https://www.hubermanlab.com/episode/dr-marc-brackett-how-to-increase-your-emotional-intelligence\">hubermanlab.com</a>.</p><h2>Pre-Order Andrew\\'s New Book</h2><p><em>Protocols: An Operating Manual for the Human Body</em>: <a href=\"https://protocolsbook.com/\">https://protocolsbook.com</a></p><h2>Thank you to our sponsors</h2><p>AG1: <a href=\"https://drinkag1.com/huberman\">https://drinkag1.com/huberman</a>\\xa0</p><p>BetterHelp: <a href=\"https://betterhelp.com/huberman\">https://betterhelp.com/huberman</a></p><p>Eight Sleep: <a href=\"https://eightsleep.com/huberman\">https://eightsleep.com/huberman</a></p><p>Eudēmonia: <a href=\"https://eudemonia.net\">https://eudemonia.net</a></p><p>LMNT: <a href=\"https://drinklmnt.com/huberman\">https://drinklmnt.com/huberman</a></p><h2>Timestamps</h2><p>00:00:00 Dr. Marc Brackett</p><p>00:02:02 Sponsors: BetterHelp, Eight Sleep &amp; Eudēmonia</p><p>00:06:03 What is Emotional Intelligence?; Self &amp; Others</p><p>00:11:18 Language &amp; Emotion</p><p>00:18:52 Emojis; Anger vs. Disappointment; Behavior &amp; Emotion</p><p>00:24:35 Sponsor: AG1</p><p>00:26:05 Parent/Teacher Support; Online Etiquette</p><p>00:31:24 Anonymity, Online Comments</p><p>00:35:46 Happiness vs. Contentment; Knowing Oneself</p><p>00:41:33 Introversion &amp; Extroversion; Personality &amp; Emotional Intelligence</p><p>00:51:28 Sponsor: LMNT</p><p>00:52:40 Texting &amp; Relationships</p><p>01:00:37 Tool: Mood Meter, Energy &amp; Pleasantness Scale</p><p>01:06:28 Emotion Suppression; Permission to Feel, Emotions Mentor</p><p>01:19:42 Discussing Feelings; Emotional Self-Awareness</p><p>01:25:00 Understanding Cause of Emotions, Stress, Envy</p><p>01:33:40 Framing Empathy, Compassionate Empathy</p><p>01:42:28 Asking Question; Tools: Reframing, Hot Air Balloon; Distancing</p><p>01:49:44 Stereotypes, “Emotional”</p><p>01:53:49 Emotions, Learning &amp; Decision Making; Intention</p><p>02:02:43 Emotion App &amp; Self-Awareness; Gratitude Practice</p><p>02:07:13 Bullying</p><p>02:18:06 Courage &amp; Bullying; Emotion Education</p><p>02:25:33 Punishment; Uncle Marvin</p><p>02:31:59 Zero-Cost Support, YouTube, Spotify &amp; Apple Follow &amp; Reviews, Sponsors, YouTube Feedback, Protocols Book, Social Media, Neural Network Newsletter</p><p><a href=\"https://www.hubermanlab.com/disclaimer\">Disclaimer &amp; Disclosures</a></p>',\n",
       "  'duration': 9273,\n",
       "  'imageUrl': None,\n",
       "  'audioUrl': 'https://www.podtrac.com/pts/redirect.mp3/pdst.fm/e/chrt.fm/track/3F7F74/traffic.megaphone.fm/SCIM6059113217.mp3?updated=1725897124'},\n",
       " {'uuid': 'c29f10c3-0a1e-4c57-8a0e-5353a913ef14',\n",
       "  'datePublished': 1725264000,\n",
       "  'name': 'Dr. Jamil Zaki: How to Cultivate a Positive, Growth-Oriented Mindset',\n",
       "  'description': '<p>In this episode, my guest is <a href=\"https://www.jamil-zaki.com/\">Dr. Jamil Zaki, Ph.D.</a>, professor of psychology at Stanford University, director of the Stanford Social Neuroscience Laboratory, and the author of the new book <em>Hope for Cynics</em>. We discuss cynicism and its healthier, more adaptive alternative, healthy skepticism, and how embracing healthy skepticism can enhance both our emotional and physical health.</p><p>We discuss the data on how cynicism affects us as individuals and in relationships, causing lower levels of happiness, poorer physical health, and reduced creativity, trust, and collaboration. He also explains novel data-supported tools that we can use to shift ourselves towards a more informed yet more positive worldview and how to adopt a mindset of “hopeful skepticism” — the ideal stance to navigate life.\\xa0</p><p>Dr. Zaki offers listeners a positive, hopeful view of humanity grounded in cutting-edge research from his laboratory and other top laboratories. He also offers science-supported protocols to navigate relationships in person and online better.\\xa0</p><p>Access the full show notes, including referenced articles, books, people mentioned, and additional resources at <a href=\"https://www.hubermanlab.com/episode/dr-jamil-zaki-how-to-cultivate-a-positive-growth-oriented-mindset\">hubermanlab.com</a>.</p><h2>Pre-Order Andrew\\'s New Book</h2><p><em>Protocols: An Operating Manual for the Human Body</em>: <a href=\"https://protocolsbook.com\">https://protocolsbook.com</a></p><h2>Thank you to our sponsors</h2><p>AG1: <a href=\"https://drinkag1.com/huberman\">https://drinkag1.com/huberman</a>\\xa0</p><p>Maui Nui Venison: <a href=\"https://mauinuivenison.com/huberman\">https://mauinuivenison.com/huberman</a>\\xa0</p><p>Joovv: <a href=\"https://joovv.com/huberman\">https://joovv.com/huberman</a>\\xa0</p><p>Waking Up: <a href=\"https://wakingup.com/huberman\">https://wakingup.com/huberman</a>\\xa0</p><p>Function: <a href=\"https://functionhealth.com/huberman\">https://functionhealth.com/huberman</a>\\xa0\\xa0</p><h2>Timestamps</h2><p>00:00:00 Dr. Jamil Zaki</p><p>00:02:12 Sponsors: Maui Nui, Joovv &amp; Waking Up</p><p>00:06:59 Cynicism</p><p>00:12:38 Children, Attachment Styles &amp; Cynicism</p><p>00:17:29 Cynicism vs. Skepticism, Complexity</p><p>00:23:30 Culture Variability &amp; Trust</p><p>00:26:28 Sponsor: AG1</p><p>00:27:40 Negative Health Outcomes; Cynicism: Perception &amp; Intelligence</p><p>00:35:59 Stereotypes, Threats</p><p>00:39:48 Cooperative Environments, Collaboration &amp; Trust</p><p>00:44:05 Competition, Conflict, Judgement</p><p>00:48:46 Cynics, Awe, “Moral Beauty”</p><p>00:55:26 Sponsor: Function</p><p>00:57:13 Cynicism, Creativity &amp; Workplace</p><p>01:04:19 Assessing Cynicism; Assumptions &amp; Opportunities</p><p>01:11:11 Social Media &amp; Cynicism, “Mean World Syndrome”</p><p>01:18:35 Negativity Bias, Gossip\\xa0</p><p>01:24:03 Social Media &amp; Cynicism, Polarization, “Hopeful Skepticism”\\xa0</p><p>01:32:59 AI, Bias Correction</p><p>01:39:05 Tools: Mindset Skepticism; Reciprocity Mindset; Social Savoring</p><p>01:46:05 Tools: Leaps of Faith; Forecasting; Encounter Counting</p><p>01:51:33 Tool: Testing &amp; Sharing Core Beliefs</p><p>01:58:09 Polarization vs. Perceived Polarization, Politics</p><p>02:06:06 Challenging Conversations, Questioning Perceptions\\xa0</p><p>02:14:04 Zero-Cost Support, YouTube, Spotify &amp; Apple Follow &amp; Reviews, Sponsors, YouTube Feedback, Protocols Book, Social Media, Neural Network Newsletter</p><p><a href=\"https://www.hubermanlab.com/disclaimer\">Disclaimer &amp; Disclosures</a></p>',\n",
       "  'duration': 8202,\n",
       "  'imageUrl': None,\n",
       "  'audioUrl': 'https://www.podtrac.com/pts/redirect.mp3/pdst.fm/e/chrt.fm/track/3F7F74/traffic.megaphone.fm/SCIM9746981563.mp3?updated=1725308922'},\n",
       " {'uuid': 'e5d06f24-257d-457e-96f5-c604dd881467',\n",
       "  'datePublished': 1724659200,\n",
       "  'name': 'Optimal Protocols for Studying & Learning',\n",
       "  'description': '<p>In this episode, I discuss science-supported protocols to optimize your depth and rate of learning of material and skills. I explain the neurobiology of learning and neuroplasticity and how correctly timed, self-directed test-taking can be leveraged to improve learning and prevent forgetting.\\xa0</p><p>I discuss the study habits of the most successful learners, ways to limit distractions, how to set study goals, and how tests can be used as tools to learn, not just as a means for evaluating one’s mastery of learned material. A surprising aspect of tests, specifically self-testing soon after exposure to new material, is that they can significantly improve your ability to learn, apply, and maintain new knowledge. I also discuss tools to improve focus and alertness while studying.</p><p>By the end of this episode, you will have learned various science-supported actionable tools you can use to better learn, remember, and apply new information.</p><p>Access the full show notes, including referenced articles, books, people mentioned, and additional resources at <a href=\"https://www.hubermanlab.com/episode/optimal-protocols-for-studying-learning\">hubermanlab.com</a>.</p><h2>Andrew\\'s New Book</h2><p><em>Protocols: An Operating Manual for the Human Body</em>: <a href=\"https://protocolsbook.com/\">https://protocolsbook.com</a></p><h2>Thank you to our sponsors</h2><p>AG1: <a href=\"https://drinkag1.com/huberman\">https://drinkag1.com/huberman</a>\\xa0</p><p>Eight Sleep: <a href=\"https://eightsleep.com/huberman%C2%A0\">https://eightsleep.com/huberman\\xa0</a></p><p>BetterHelp: <a href=\"https://betterhelp.com/huberman\">https://betterhelp.com/huberman</a>\\xa0</p><p>Waking Up: <a href=\"https://wakingup.com/huberman\">https://wakingup.com/huberman</a>\\xa0</p><p>LMNT: <a href=\"https://drinklmnt.com/huberman\">https://drinklmnt.com/huberman</a>\\xa0</p><h2>Timestamps</h2><p>00:00:00 Improve Studying &amp; Learning</p><p>00:02:11 Sponsors: Eight Sleep, BetterHelp &amp; Waking Up</p><p>00:06:45 Offsetting Forgetting</p><p>00:08:22 Learning &amp; Neuroplasticity</p><p>00:13:06 Periodic Testing</p><p>00:16:09 Focus &amp; Alertness, Sleep, Tool: Active Engagement</p><p>00:21:37 Tool: Improve Focus, Mindfulness Meditation, Perception Exercise</p><p>00:24:38 Sleep &amp; Neuroplasticity, Tool: Non-Sleep Deep Rest (NSDR)</p><p>00:28:29 Tools: Study Habits of Successful Students</p><p>00:36:21 Sponsor: AG1</p><p>00:37:33 Studying &amp; Aspiration Goals; Challenging Material</p><p>00:42:54 Tool: Testing as a Learning Tool</p><p>00:48:23 Self-Testing, Repeated Testing</p><p>00:55:29 Testing Yourself &amp; Knowledge Gaps</p><p>01:01:11 Sponsor: LMNT</p><p>01:02:23 New Material &amp; Self-Test Timing</p><p>01:07:21 Familiarity vs Mastery</p><p>01:10:55 Self-Testing &amp; Offsetting Forgetting</p><p>01:15:53 Best Type of Self-Tests; Phone &amp; Post-Learning Distractions</p><p>01:22:03 Tool: Gap Effects; Testing as Studying vs. Evaluation</p><p>01:25:40 Tool: Emotion &amp; Learning, PTSD, Deliberate Cold Exposure, Caffeine</p><p>01:33:28 Tool: Interleaving Information; Unskilled, Mastery &amp; Virtuosity</p><p>01:39:10 Zero-Cost Support, YouTube, Spotify &amp; Apple Follow &amp; Reviews, Sponsors, YouTube Feedback, Protocols Book, Social Media, Neural Network Newsletter</p><p><a href=\"https://www.hubermanlab.com/disclaimer\">Disclaimer</a></p>',\n",
       "  'duration': 6098,\n",
       "  'imageUrl': None,\n",
       "  'audioUrl': 'https://www.podtrac.com/pts/redirect.mp3/pdst.fm/e/chrt.fm/track/3F7F74/traffic.megaphone.fm/SCIM3722040660.mp3?updated=1724646622'},\n",
       " {'uuid': 'b28a7cba-5a67-420e-9b48-c04020c5057e',\n",
       "  'datePublished': 1724054400,\n",
       "  'name': 'Dr. Teo Soleymani: How to Improve & Protect Your Skin Health & Appearance',\n",
       "  'description': '<p>In this episode, my guest is Dr. Teo Soleymani, M.D., a double-board-certified dermatologist and specialist in skin cancer and reconstructive surgery. We discuss science and clinically supported protocols to improve skin health and give your skin a more youthful appearance and structure, reducing premature aging and skin cancer risk.</p><p>We discuss the impact of sun exposure on skin appearance and aging and the surprising relationship between sun exposure and skin cancer. We explain how mineral-based (inorganic) sunscreens differ from chemical (organic) sunscreens, whether sunscreen can minimize premature skin aging, reduce cancer risk, and if there are any health risks associated with sunscreen use.</p><p>We discuss skincare routines to significantly improve skin appearance and how to select skincare products. We discuss how caffeine, nicotine, alcohol, and stress impact the skin and describe how nutrition and anti-inflammatory diets can improve skin health. We also discuss the causes and treatments for common skin conditions, including dandruff, acne, rosacea, eczema, psoriasis, and vitiligo.</p><p>Our conversation also covers topics such as the use of retinoids, laser treatments, red-light phototherapy, supplements, and how to best monitor for skin cancer. This episode provides numerous actionable protocols, most of which are zero-to-low cost, for improving skin health and appearance, reducing cancer risk, and treating skin problems.</p><p>Access the full show notes for this episode at <a href=\"https://www.hubermanlab.com/episode/dr-teo-soleymani-how-to-improve-protect-your-skin-health-appearance\">hubermanlab.com</a>.</p><p>Pre-order Andrew\\'s new book, Protocols, at <a href=\"Pre-order%20Andrew\\'s%20new%20book,%20Protocols:%20https://protocolsbook.com\">protocolsbook.com</a>.</p><h2>Thank you to our sponsors</h2><p>AG1: <a href=\"https://drinkag1.com/huberman\">https://drinkag1.com/huberman</a></p><p>ROKA: <a href=\"https://roka.com/huberman\">https://roka.com/huberman</a></p><p>Joovv: <a href=\"https://joovv.com/huberman\">https://joovv.com/huberman</a></p><p>Helix Sleep: <a href=\"https://helixsleep.com/huberman\">https://helixsleep.com/huberman</a></p><p>LMNT: <a href=\"https://drinklmnt.com/huberman\">https://drinklmnt.com/huberman</a></p><h2>Timestamps</h2><p>00:00:00 Dr. Teo Soleymani</p><p>00:01:35 Sponsors: ROKA, Joovv &amp; Helix Sleep</p><p>00:05:45 Skin Turnover; Skin Appearance &amp; Stress\\xa0</p><p>00:13:35 Caffeine, Vasoconstriction &amp; Skin Redness</p><p>00:16:31 Nicotine, Vaping &amp; Skin Appearance</p><p>00:18:37 Alcohol, Skin Health</p><p>00:24:33 Hydration, Fluid Intake &amp; Genetics</p><p>00:26:19 Tool: Selecting a Moisturizer</p><p>00:29:28 Sponsor: AG1</p><p>00:30:40 Puffiness Under Eyes &amp; Cause</p><p>00:32:14 Tool: Skin Cleansing; Frequency, Showers</p><p>00:41:57 Dry &amp; Flaky Scalp, Dandruff</p><p>00:46:09 Cost &amp; Skincare Products</p><p>00:50:20 Tool: Sun Exposure &amp; Skin Health, Mood</p><p>00:56:24 Sponsor: LMNT</p><p>00:57:35 Sunscreens vs. Sunblocks; Mineral-Based (Inorganic) vs. Chemical (Organic) Sunscreen</p><p>01:02:45 Physical Barriers, Sunscreens, Oral Supplements &amp; Skin Cancer</p><p>01:07:27 Skin Cancer, Genetics; Sunscreen, Premature Aging</p><p>01:12:11 Premature Aging &amp; Skincare</p><p>00:15:56 Choose Mineral or Chemical Sunscreen?</p><p>01:20:24 Polypodium Supplement, Sun Exposure, Skin Redness</p><p>01:26:02 Tool: Selecting Mineral-Based Sunscreens</p><p>01:28:30 Chemical Sunscreens &amp; Blood-Brain Barrier</p><p>01:30:13 Nutrition, Gut Microbiome &amp; Skin Health</p><p>01:34:28 Tool: Nutrition for Skin Health, Protein, Anti-Inflammatory; Collagen; Omega-3</p><p>01:42:58 Retinoids vs. Retinol, Skin Appearance</p><p>01:49:45 Laser Resurfacing; Exfoliation, Microdermabrasion</p><p>01:56:52 Red Light Therapy &amp; Phototherapy, Face Masks, Light Panels</p><p>02:04:10 Psoriasis, Phototherapy</p><p>02:10:03 Vitiligo, Immune System &amp; Skin Cancer Risk</p><p>02:15:41 Acne, High Glycemic Index Foods, Dairy</p><p>02:19:38 Rosacea, Types &amp; Treatments</p><p>02:23:00 Eczema, Immune System</p><p>02:25:37 Popping Pimples &amp; Acne Scars; Corticosteroids</p><p>02:30:15 Tattoos; Tool: Monitoring for Skin Cancer, Moles, Annual Exams</p><p>02:36:28 HPV, Cancer &amp; Warts; Vaccine &amp; Cancer Risk</p><p>02:43:31 Zero-Cost Support, YouTube, Spotify &amp; Apple Follow &amp; Reviews, YouTube Feedback, Protocols Book, Social Media, Neural Network Newsletter</p><p><a href=\"https://www.hubermanlab.com/disclaimer\">Disclaimer &amp; Disclosures</a></p>',\n",
       "  'duration': 9963,\n",
       "  'imageUrl': None,\n",
       "  'audioUrl': 'https://www.podtrac.com/pts/redirect.mp3/pdst.fm/e/chrt.fm/track/3F7F74/traffic.megaphone.fm/SCIM2145176738.mp3?updated=1724039922'},\n",
       " {'uuid': 'a11baefd-c27e-49f1-8058-00ea03774924',\n",
       "  'datePublished': 1723622400,\n",
       "  'name': 'Perform with Dr. Andy Galpin: Nutrition to Support Brain Health & Offset Brain Injuries',\n",
       "  'description': '<p>I\\'m honored to share Episode 10, the final episode of Season 1 of <a href=\"https://performpodcast.com/\"><em>Perform with Dr. Andy Galpin</em></a>.</p><p>Dr. Andy Galpin is a tenured full professor at California State University, Fullerton, where he co-directs the Center for Sport Performance and leads the Biochemistry and Molecular Exercise Physiology Laboratory.</p><p>Andy is both a friend and a colleague, and I\\'m delighted to have assisted in the creation of this podcast. I\\'m certain you\\'ll both enjoy and learn from it.</p><p>Season 1 featured 10 episodes, where Dr. Galpin covered everything from building strength, the importance of strength for long-term health, the science of breathing, the benefits of sleep extension, genetic testing for personalized training, and nutrition for injury recovery.</p><p>While we have Episode 10 of <em>Perform with Dr. Andy Galpin</em> here, please be sure to follow <em>Perform with Dr. Andy Galpin</em> on your <a href=\"https://lnk.to/perform\">preferred platform</a> to listen to all the episodes from Season 1 and to get notified when Season 2 is released.</p><p>Show notes for this episode can be found at <a href=\"https://performpodcast.com/nutrition-to-support-brain-health-and-offset-brain-injuries/\">performpodcast.com</a>.</p><h2>Timestamps</h2><p>00:00:00 Introduction from Dr. Andrew Huberman</p><p>00:01:08 Brain Health &amp; Injury\\xa0\\xa0</p><p>00:05:06 Sponsors: LMNT &amp; Continuum\\xa0\\xa0</p><p>00:08:16 Nutrition &amp; Supplements for Brain Injury\\xa0\\xa0</p><p>00:12:44 Brain Injury Categories, Traumatic Brain Injury (TBI), Concussion\\xa0\\xa0</p><p>00:17:09 Brain Injury Pathophysiology\\xa0\\xa0</p><p>00:22:16 Burst Capillaries, Initial TBI Response\\xa0\\xa0</p><p>00:30:03 Delayed TBI Response, Neuroinflammation\\xa0\\xa0</p><p>00:34:19 Sponsors: Momentous &amp; Maui Nui\\xa0\\xa0</p><p>00:36:52 Creatine Monohydrate; Second Impact Syndrome\\xa0\\xa0</p><p>00:41:52 Strength of Evidence Scale, Creatine\\xa0\\xa0</p><p>00:47:15 Creatine Doses, Frequency, Adverse Issues; Food Sources\\xa0\\xa0</p><p>00:53:22 Sponsors: AG1 &amp; David Protein\\xa0\\xa0</p><p>00:56:05 Fish Oil, DHA, EPA\\xa0\\xa0</p><p>01:00:38 EPA &amp; DHA Dosage, Timing, Adverse Issues; Food Sources; Omega-3 Index\\xa0\\xa0</p><p>01:04:46 Vitamin B2 (Riboflavin), Vitamin B\\xa0\\xa0</p><p>01:08:57 Riboflavin Dosages, Timing; Food Sources\\xa0\\xa0</p><p>01:11:25 Choline\\xa0\\xa0</p><p>01:18:37 Choline Supplements &amp; Food Sources, Alpha GPC, Dosage\\xa0\\xa0</p><p>01:21:30 Branched-Chain Amino Acids (BCAAs), Sleep\\xa0\\xa0</p><p>01:25:04 BCAAs Dosage, Whole Food Sources\\xa0\\xa0</p><p>01:28:02 Magnesium\\xa0\\xa0</p><p>01:31:20 Magnesium Dosage, Timing, Supplements, Adverse Issue; Food Sources\\xa0\\xa0</p><p>01:33:09 Blueberry Anthocyanins\\xa0\\xa0</p><p>01:35:28 Anthocyanins Dosage; Food Sources\\xa0\\xa0</p><p>01:37:17 Caffeine &amp; Brain Injury Recovery\\xa0\\xa0</p><p>01:38:50 Perform Episodes, Perform Newsletter, Acknowledgements\\xa0\\xa0</p><p>01:41:19 Zero-Cost Support, YouTube, Spotify &amp; Apple Subscribe &amp; Reviews, Sponsors, YouTube Feedback, Social Media\\xa0\\xa0</p><p>01:42:56 Conclusion by Andrew Huberman\\xa0\\xa0</p><p><a href=\"https://www.hubermanlab.com/disclaimer\">Disclaimer</a></p>',\n",
       "  'duration': 6193,\n",
       "  'imageUrl': None,\n",
       "  'audioUrl': 'https://www.podtrac.com/pts/redirect.mp3/pdst.fm/e/chrt.fm/track/3F7F74/traffic.megaphone.fm/SCIM2575740626.mp3?updated=1723609093'},\n",
       " {'uuid': '9c44c65f-8360-405d-a59b-688bdd0d8916',\n",
       "  'datePublished': 1723449600,\n",
       "  'name': 'Dr. Layne Norton: Tools for Nutrition & Fitness',\n",
       "  'description': '<p>In this episode, my guest is <a href=\"https://biolayne.com/coach/layne-norton/\">Dr. Layne Norton, Ph.D.</a>, one of the world’s top experts in nutrition and training for physical fitness. We discuss how to evaluate scientific evidence and the validity of different practices aimed at achieving fat loss, muscle strength and hypertrophy, microbiome health, vitality, and longevity.</p><p>We explore many hotly debated topics, including fasting, seed oils, saturated fats, sugar, red meat, artificial/low-calorie sweeteners, and GLP-1 agonists (e.g., Ozempic). Additionally, we delve into the timing of protein and carbohydrate intake relative to fasting and exercise, fat loss and sleep, and the benefits of dietary protein and fiber on overall health.</p><p>We also discuss how to accelerate hypertrophy and fat loss, improve strength, whether we need to train to “failure,” how to enhance exercise recovery, and how to manage pain. We cover training before versus after age 50, whether metabolism changes with age, and the connection between muscle health and longevity. We also address why certain behaviors and supplements might work for some people but not others.</p><p>Listeners to this episode will benefit greatly from Layne’s science-based expertise on a wide range of topics, including health, nutrition, and fitness.</p><p>Access the full show notes for this episode at <a href=\"https://www.hubermanlab.com/episode/dr-layne-norton-tools-for-nutrition-fitness\">hubermanlab.com</a>.</p><h2>Thank you to our sponsors</h2><p>AG1: <a href=\"https://drinkag1.com/huberman\">https://drinkag1.com/huberman</a></p><p>Mateina: <a href=\"https://drinkmateina.com/huberman\">https://drinkmateina.com/huberman</a></p><p>Eight Sleep: <a href=\"https://www.eightsleep.com/huberman\">https://www.eightsleep.com/huberman</a></p><p>Maui Nui: <a href=\"https://mauinuivenison.com/huberman\">https://mauinuivenison.com/huberman</a></p><p>LMNT: <a href=\"https://drinklmnt.com/huberman\">https://drinklmnt.com/huberman</a></p><h2>Timestamps</h2><p>00:00:00 Dr. Layne Norton</p><p>00:01:49 Sponsors: Mateina, Eight Sleep, Maui Nui</p><p>00:06:39 Science-Based Evidence, Mechanism vs. Outcome</p><p>00:14:31 Meta-analysis, Methods, Evidence Quality</p><p>00:22:45 Evidence Hierarchy, Randomized Controlled Trials, Cohort Data</p><p>00:33:53 Sponsor: AG1</p><p>00:35:05 “Don’t Turn Your Brain Off”; Protein Synthesis</p><p>00:42:01 Protein Synthesis, Refractory Response; Resistance Training\\xa0\\xa0</p><p>00:46:05 Protein Intake, Intermittent Fasting &amp; Training</p><p>00:54:52 Tool: Total Protein Intake, Distribution &amp; Protein Synthesis</p><p>01:00:25 Muscle Quality, Protein Remodeling, Muscle Growth</p><p>01:05:34 Sponsor: LMNT</p><p>01:06:46 Early vs. Late Time-Restricted Eating; Fasting Blood Glucose &amp; HbA1c</p><p>01:10:30 Carbohydrate Timing, Individual Response, Placebo; Tool: Tracking Diet</p><p>01:19:50 “The Norton Method”; Tool: Consistency</p><p>01:25:16 Resistance &amp; Cardiovascular Training; Competition; Immune System &amp; Rest</p><p>01:33:50 Mind &amp; Body Effects, Stress; Belief Effects</p><p>01:41:30 Training to Failure, Reps in Reserve, Hypertrophy &amp; Strength Training</p><p>01:50:24 Fatigue &amp; Training to Failure, Speed, Strength Training</p><p>01:59:06 Tool: Training After 50, Consistency</p><p>02:09:12 Fat Cells, Diabetes, Exercise</p><p>02:16:50 Metabolism &amp; Age-Related Changes?, Appetite</p><p>02:23:17 Ozempic, Mounjaro, GLP-1 Agonists, Lean Mass, “Food Noise”</p><p>02:33:42 GLP-1 Agonists, Judgement &amp; Obesity</p><p>02:40:19 Sugar, Excess Calories, Body Weight</p><p>02:49:16 Satiety, Sugar &amp; Calorie Budget</p><p>02:54:56 Tool: Individualization, Context &amp; Diet Psychology</p><p>02:57:22 Seed Oils, Butter, Olive Oil</p><p>03:06:56 Red Meat, Carcinogenic?; Simple Diet; Fiber Benefits</p><p>03:13:43 Saturated Fat, Cholesterol; Seed Oils</p><p>03:18:41 Artificial &amp; Low-Calorie Sweeteners, Insulin, Appetite</p><p>03:29:06 Artificial &amp; Low-Calorie Sweeteners, Gut Microbiome; Cancer</p><p>03:37:58 Tools: Training Recovery, Glycogen Replenishment; Stress &amp; Activity</p><p>03:45:56 Collagen Supplementation, Skin &amp; Nails, Whey Protein</p><p>03:57:00 Evidence-Based Approach</p><p>04:01:41 Zero-Cost Support, YouTube, Spotify &amp; Apple Follow &amp; Reviews, YouTube Feedback, Protocols Book, Social Media, Neural Network Newsletter</p><p><a href=\"https://www.hubermanlab.com/disclaimer\">Disclaimer &amp; Disclosures</a></p>',\n",
       "  'duration': 14669,\n",
       "  'imageUrl': None,\n",
       "  'audioUrl': 'https://www.podtrac.com/pts/redirect.mp3/pdst.fm/e/chrt.fm/track/3F7F74/traffic.megaphone.fm/SCIM5519161031.mp3?updated=1723444303'},\n",
       " {'uuid': '114ec28d-25be-426a-8cd2-992116f705cd',\n",
       "  'datePublished': 1722844800,\n",
       "  'name': 'Dr. Martha Beck: Access Your Best Self With Mind-Body Practices, Belief Testing & Imagination',\n",
       "  'description': '<p>In this episode, my guest is <a href=\"https://marthabeck.com/\">Dr. Martha Beck, Ph.D.</a>, a Harvard-trained sociologist, bestselling author, and one of the world’s foremost experts on personal exploration and development.\\xa0</p><p>Dr. Beck shares specific frameworks and practices to tap into your unique and deepest desires, core truths, and best life direction—all elements that comprise your authentic self. She also explains how to align your work and relationships of all kinds with your true self and how to embrace the discomfort and process of leaving unhealthy relationships.</p><p>We discuss how to deal with negative thoughts and emotions, grapple with societal norms, and improve body awareness to gauge your inner truth. We also discuss codependency and self-abandonment - and how to exit and recover from these experiences.\\xa0</p><p>By the end of the episode, you will have learned numerous practical tools to access your best self and live a richly fulfilling life.\\xa0</p><p>Access the full show notes for this episode at <a href=\"https://www.hubermanlab.com/episode/dr-martha-beck-accessing-your-best-self-with-mind-body-practices-belief-testing-imagination\">hubermanlab.com</a>.</p><h2>Thank you to our sponsors</h2><p>AG1: <a href=\"https://drinkag1.com/huberman\">https://drinkag1.com/huberman</a></p><p>BetterHelp: <a href=\"https://betterhelp.com/huberman\">https://betterhelp.com/huberman</a></p><p>Helix Sleep: <a href=\"https://helixsleep.com/huberman\">https://helixsleep.com/huberman</a></p><p>LMNT: <a href=\"https://drinklmnt.com/huberman\">https://drinklmnt.com/huberman</a></p><p>Waking Up: <a href=\"https://wakingup.com/huberman\">https://wakingup.com/huberman</a></p><h2>Timestamps</h2><p>00:00:00 Dr. Martha Beck</p><p>00:01:34 Sponsors: BetterHelp, Helix Sleep &amp; LMNT</p><p>00:05:34 Tool: Perfect Day Exercise</p><p>00:15:31 “Clear Eyed”, Male vs. Female</p><p>00:23:31 Family &amp; Work; Directed Attention &amp; Miracles</p><p>00:30:21 Sponsor: AG1</p><p>00:32:10 Unease, Restlessness &amp; Guilt; Life Worth, Fear</p><p>00:37:22 Accessing the Subconscious; Compassionate Witness Self</p><p>00:46:16 Finding Self, Suffering, Anxiety; Tool: “KIST”, Self-Parenting</p><p>00:54:01 Self, Radiance, Death; Awakening</p><p>00:59:14 Suffering &amp; Compassionate Attention</p><p>01:02:10 Challenging Internal Thoughts, Understanding Truth, Body &amp; Mind;</p><p>01:08:44 Sponsor: Waking Up</p><p>01:10:20 Western Society &amp; Pressure</p><p>01:18:30 Tool: Sensing Truth in Body; Meditation, “Stopping the World”</p><p>01:25:02 Energy, Magnetoreception, Pet’s Death</p><p>01:33:49 Lying to Ourselves, Addiction</p><p>01:38:18 Tool: “Integrity Cleanse”, Lies; The Light</p><p>01:47:32 Relationship with Loss; Love, Self-Abandonment &amp; Codependency</p><p>01:55:10 Romantic Relationships; Jobs &amp; Family</p><p>02:02:06 Hurting Others, Relationship Imbalance</p><p>02:06:55 Tool: True Empathy</p><p>02:11:26 “Happiness is an Inside Job”, Codependency</p><p>02:18:58 Live Your Joy, Western Society</p><p>02:24:41 Relationships, Love &amp; Integrity, “Feeling Good By Looking Weird”</p><p>02:30:42 “I Like It!”, Punk Rock Music, Love</p><p>02:34:24 Honesty &amp; Essential Self; Helping People &amp; Healers</p><p>02:42:12 Zero-Cost Support, YouTube, Spotify &amp; Apple Follow &amp; Reviews, YouTube Feedback, Protocols Book, Social Media, Neural Network Newsletter</p><p><a href=\"https://www.hubermanlab.com/disclaimer\">Disclaimer &amp; Disclosures</a></p>',\n",
       "  'duration': 9893,\n",
       "  'imageUrl': None,\n",
       "  'audioUrl': 'https://www.podtrac.com/pts/redirect.mp3/pdst.fm/e/chrt.fm/track/3F7F74/traffic.megaphone.fm/SCIM3796933031.mp3?updated=1723442680'},\n",
       " {'uuid': '101530fd-8051-4afe-85ce-82fb5dad3785',\n",
       "  'datePublished': 1722585600,\n",
       "  'name': 'AMA #18: Cold Therapy Advice, Skin Health Tips, Motivation, Learning Strategies & More',\n",
       "  'description': '<p>Welcome to a special edition of the 18th Ask Me Anything (AMA) episode, part of Huberman Lab Premium. This episode is a recording of the live stream AMA, exclusive to our Premium members. We\\'ve decided to make the full-length version available to everyone, including non-members of Huberman Lab Premium.</p><p>Huberman Lab Premium was launched for two main reasons. First, it was launched in order to raise support for the main Huberman Lab podcast — which will continue to come out every Monday at zero-cost. Second, it was launched as a means to raise funds for important scientific research. A significant portion of proceeds from the Huberman Lab Premium subscription will fund human research (not animal models) selected by Dr. Huberman, with a dollar-for-dollar match from the Tiny Foundation and other donors.</p><p>If you\\'re not yet a member but enjoyed this full-length livestream AMA, we invite you to <a href=\"https://www.hubermanlab.com/premium\">join Huberman Lab Premium</a>. By subscribing, you\\'ll gain access to exclusive benefits including our regular monthly full-length AMA episodes, AMA transcripts, podcast episode transcripts, early access to live events and more. Additionally, a significant portion of your membership proceeds contributes to advancing human scientific research. You can learn more about the research we were able to support in our <a href=\"https://www.hubermanlab.com/annual-letter/2023\">Annual Letter 2023</a>.</p><p>If you\\'re a Huberman Lab Premium member, you can access the transcript for this AMA episode <a href=\"https://www.hubermanlab.com/episode/ama-18-cold-therapy-advice-skin-health-tips-motivation-learning-strategies-more%20\">here</a>.</p><h2>Timestamps</h2><p>00:00 Introduction &amp; Announcements</p><p>00:15 Supporting Mental &amp; Physical Health Research</p><p>01:56 Exciting New Research Initiatives</p><p>03:39 Skin Health &amp; Appearance</p><p>14:46 Cold Therapy Benefits &amp; Guidelines</p><p>21:18 Self-Motivation Strategies</p><p>27:05 Understanding REM Sleep</p><p>28:45 Morning Routine: Exercise &amp; Cold Exposure</p><p>29:17 The Importance of REM Sleep</p><p>29:49 Non-Sleep Deep Rest (NSDR) Protocols</p><p>31:27 REM Sleep Rebound &amp; Compensation</p><p>32:55 Impactful School Strategies for Learning</p><p>34:19 Meditation &amp; Micro Gaps in Learning</p><p>39:13 Physical Activity &amp; Learning</p><p>41:01 Exploring Shilajit &amp; Testosterone</p><p>47:51 Writing Process &amp; Overcoming Obstacles</p><p>51:32 Addiction &amp; Recovery Resources</p><p>53:47 Closing Remarks &amp; Gratitude</p><p><a href=\"https://www.hubermanlab.com/disclaimer\">Disclaimer &amp; Disclosures</a></p>',\n",
       "  'duration': 3403,\n",
       "  'imageUrl': 'https://megaphone.imgix.net/podcasts/1d3d1680-5037-11ef-b39f-bf5e480148f7/image/34256f63c8c1fc50fc11ffcb1d5265af.jpg?ixlib=rails-4.3.1&max-w=3000&max-h=3000&fit=crop&auto=format,compress',\n",
       "  'audioUrl': 'https://www.podtrac.com/pts/redirect.mp3/pdst.fm/e/chrt.fm/track/3F7F74/traffic.megaphone.fm/SCIM1100391235.mp3?updated=1722581999'},\n",
       " {'uuid': '24a23ba8-b29a-42de-a2ce-9cd37c3ef68f',\n",
       "  'datePublished': 1722240000,\n",
       "  'name': 'Dr. Peter Attia: Supplements for Longevity & Their Efficacy',\n",
       "  'description': '<p>In this episode, my guest is <a href=\"https://peterattiamd.com/\">Dr. Peter Attia, M.D.</a>, a Stanford and Johns Hopkins School of Medicine-trained physician expert in improving human healthspan and lifespan. Dr. Attia is also the host of <a href=\"https://peterattiamd.com/podcast/\"><em>The Drive</em></a> podcast and author of the best-selling book <a href=\"https://peterattiamd.com/outlive/\"><em>Outlive</em></a>.\\xa0</p><p>We discuss the NAD pathway in human cells and its possible links to aging and health. We evaluate how supplementation can augment molecules in the NAD pathway; we compare NAD, NMN, and NR, different routes of administration, their safety, and bioavailability. Then, we discuss the broader research and clinical literature on longevity to decide if supplementation with NAD, NR, NMN, rapamycin, or resveratrol can indeed extend lifespan.\\xa0</p><p>Finally, we each describe our supplement regimens and compare the role of supplementation to behaviors such as sleep, nutrition, and exercise for longevity. We also discuss whether tests of biological age are true indicators of aging and whether normal radiation levels increase cancer risk.\\xa0</p><p>Listeners of this episode will learn if supplements purported to improve lifespan show any efficacy and the behaviors and other factors that can prevent disease and extend lifespan.</p><p>Access the full show notes for this episode at <a href=\"https://www.hubermanlab.com/episode/dr-peter-attia-supplements-for-longevity-their-efficacy\">hubermanlab.com</a>.</p><h2>Thank you to our sponsors</h2><p>AG1: <a href=\"https://drinkag1.com/huberman\">https://drinkag1.com/huberman</a> </p><p>LMNT: <a href=\"https://drinklmnt.com/huberman\">https://drinklmnt.com/huberman</a> </p><p>Levels: <a href=\"https://levels.link/huberman\">https://levels.link/huberman</a> </p><p>Eight Sleep: <a href=\"https://eightsleep.com/huberman\">https://eightsleep.com/huberman</a>  </p><h2>Timestamps</h2><p>00:00:00 Dr. Peter Attia, NAD Pathway</p><p>00:02:31 Sponsors: LMNT, Levels &amp; Eight Sleep</p><p>00:06:38 Categories of Longevity Approaches</p><p>00:17:22 Peter’s Supplements; Rapamycin &amp; Research Data</p><p>00:25:01 NAD Pathway: Energy &amp; DNA Repair; Knock-Out &amp; Knock-In, Klotho</p><p>00:30:35 Sponsor: AG1</p><p>00:32:25 Yeast, Sirtuins, Caloric Restriction &amp; Lifespan</p><p>00:38:56 Sirtuins, Transgenic Mice, Gender &amp; Lifespan</p><p>00:43:42 DNA Repair, Sirtuins, Cancer; Resveratrol</p><p>00:53:31 Perform with Dr. Andy Galpin Podcast</p><p>00:54:18 NAD &amp; NADH, Reactive Oxygen Species (ROS), Mitochondrial Health</p><p>01:02:17 NAD vs NR vs NMN Supplementation; IV &amp; Oral Routes</p><p>01:11:33 NR vs. NMN, Doses, Side Effects; Interventions Testing Program</p><p>01:17:43 Fatty Liver Disease &amp; NR; NMN &amp; Glucose; Clinical Significance</p><p>01:25:17 Safety &amp; FDA, NMN &amp; NR Supplementation; Skin Cancer Benefits</p><p>01:30:38 Longevity, NR &amp; NMN Supplementation, Inflammation</p><p>01:41:00 Rapamycin &amp; Immune Function</p><p>01:44:37 Biological Aging Tests, Chronologic &amp; Biologic Age; Vigor\\xa0</p><p>01:55:24 Radiation &amp; Cancer Risk</p><p>01:58:12 Tool: Self-Care in 50s-70s &amp; Aging; Energy Decline</p><p>02:07:12 Tool: Exercise Timing &amp; Energy Levels</p><p>02:11:22 Peter’s Supplements</p><p>02:18:46 Andrew’s Supplements</p><p>02:24:34 Tool: Supplement Use vs. Critical Behaviors; Titanic Analogy\\xa0</p><p>02:26:52 NAD Pathway Supplementation for Longevity?</p><p>02:28:52 Zero-Cost Support, YouTube, Spotify &amp; Apple Follow &amp; Reviews, YouTube Feedback, Social Media, Neural Network Newsletter</p><p><a href=\"https://www.hubermanlab.com/disclaimer\">Disclaimer</a> </p>',\n",
       "  'duration': 9041,\n",
       "  'imageUrl': None,\n",
       "  'audioUrl': 'https://www.podtrac.com/pts/redirect.mp3/pdst.fm/e/chrt.fm/track/3F7F74/traffic.megaphone.fm/SCIM7110594668.mp3?updated=1722231082'},\n",
       " {'uuid': 'e13be052-4ff2-4b8d-adb1-cc1b00420c26',\n",
       "  'datePublished': 1721635200,\n",
       "  'name': 'Dr. Stacy Sims: Female-Specific Exercise & Nutrition for Health, Performance & Longevity',\n",
       "  'description': '<p>In this episode, my guest is <a href=\"https://www.drstacysims.com/\">Dr. Stacy Sims, Ph.D.</a>, an exercise physiologist, nutrition scientist, and expert in female-specific nutrition and training for health, performance, and longevity. We discuss which exercise and nutrition protocols are ideal for women based on their age and particular goals.</p><p>We discuss whether women should train fasted, when and what to eat pre- and post-training, and how the menstrual cycle impacts training and nutrition needs. We also explain how to use a combination of resistance, high-intensity, and sprint interval training to effectively improve body composition, hormones, and cardiometabolic health, offset cognitive decline, and promote longevity.\\xa0</p><p>We also discuss supplements and caffeine, the unique sleep needs of women based on age, whether women should use deliberate cold exposure, and how saunas can improve symptoms of hot flashes and benefit athletic performance. Dr. Sims challenges common misconceptions about women’s health and fitness and explains why certain types of cardio, caloric restriction, and low-protein diets can be harmful to women’s metabolic health.</p><p>Listeners will learn a wealth of actionable information on how to improve their training and nutrition to enhance their health and how to age with greater ability, mobility, and vitality.</p><p>Access the full show notes for this episode at <a href=\"https://www.hubermanlab.com/episode/dr-stacy-sims-female-specific-exercise-nutrition-for-health-performance-longevity\">hubermanlab.com</a>.</p><h2>Thank you to our sponsors</h2><p>AG1: <a href=\"https://drinkag1.com/huberman\">https://drinkag1.com/huberman</a></p><p>Maui Nui Venison: <a href=\"https://mauinuivenison.com/huberman\">https://mauinuivenison.com/huberman</a>\\xa0</p><p>Eight Sleep: <a href=\"https://eightsleep.com/huberman\">https://eightsleep.com/huberman</a>\\xa0\\xa0</p><p>Waking Up: <a href=\"https://wakingup.com/huberman\">https://wakingup.com/huberman</a>\\xa0</p><h2>Timestamps</h2><p>00:00:00 Dr. Stacy Sims</p><p>00:02:24 Sponsors: Maui Nui, Eight Sleep &amp; Waking Up</p><p>00:07:03 Intermittent Fasting, Exercise &amp; Women</p><p>00:12:50 Cortisol &amp; Circadian Rhythm, Caffeine &amp; Training</p><p>00:17:25 Reps in Reserve, Rate of Perceived Exertion (RPE); Age &amp; Women</p><p>00:21:06 Pre-Training Meal &amp; Brain, Kisspeptin</p><p>00:26:45 Post-Training Meal &amp; Recovery Window</p><p>00:29:59 Sponsor: AG1</p><p>00:31:48 Hormones, Calories &amp; Women</p><p>00:34:24 Women, Strength Improvements &amp; Resistance Training</p><p>00:39:10 Tool: Women &amp; Training Goals by Age Range</p><p>00:44:16 Women, Perimenopause, Training &amp; Longevity</p><p>00:47:14 Women &amp; Training for Longevity, Cardio, Zone 2</p><p>00:51:42 Tools: How to Start Resistance Training, Machines; Polarized Training</p><p>00:58:23 Perform with Dr. Andy Galpin Podcast</p><p>00:59:10 Menstrual Cycle &amp; Training, Tool: Tracking &amp; Individual Variability</p><p>01:04:31 Tool: 10-Minute Rule; High-Intensity Training &amp; Menstrual Cycle</p><p>01:08:36 “Train Hard &amp; Eat Well”; Appetite, Nutrition &amp; Menstrual Cycle</p><p>01:12:22 Oral Contraception, Hormones, Athletic Performance; IUD</p><p>01:20:57 Evaluating Menstrual Blood, PCOS; Hormones &amp; Female Athletes</p><p>01:26:31 Iron, Fatigue; Blood Testing &amp; Menstrual Cycle</p><p>01:29:33 Caffeine &amp; Perimenopause; Nicotine, Schisandra</p><p>01:34:24 Deliberate Cold Exposure &amp; Women, Endometriosis; Tool: Sauna &amp; Hot Flashes</p><p>01:42:19 Tools: “Sims’ Protocol”: Post-Training Sauna &amp; Performance; “Track Stack”</p><p>01:49:37 Women, Hormones &amp; Sleep, Perimenopause &amp; Sleep Hygiene</p><p>01:52:54 Supplements: Creatine, Water Weight, Hair Loss; Vitamin D3</p><p>01:57:21 Protein Powder; Adaptogens &amp; Timing</p><p>02:00:11 Pregnancy &amp; Training; Cold &amp; Hot Exposure</p><p>02:06:19 Tool: Women in 50s &amp; Older, Training &amp; Nutrition for Longevity</p><p>02:09:38 Tool: Women in 20s-40s &amp; Training, Lactate</p><p>02:12:18 Tool: What is High-Intensity Training?, Cardiovascular Sets &amp; Recovery</p><p>02:17:22 Training for Longevity, Cellular &amp; Metabolic Changes</p><p>02:19:30 Nutrition, 80/20 Rule</p><p>02:23:30 Listening to Self</p><p>02:26:00 Zero-Cost Support, YouTube, Spotify &amp; Apple Follow &amp; Reviews, YouTube Feedback, Protocols Book, Social Media, Neural Network Newsletter\\xa0</p><p><a href=\"https://www.hubermanlab.com/disclaimer\">Disclaimer &amp; Disclosures</a></p>',\n",
       "  'duration': 8917,\n",
       "  'imageUrl': None,\n",
       "  'audioUrl': 'https://www.podtrac.com/pts/redirect.mp3/pdst.fm/e/chrt.fm/track/3F7F74/traffic.megaphone.fm/SCIM3511503121.mp3?updated=1721625554'}]"
      ]
     },
     "execution_count": 20,
     "metadata": {},
     "output_type": "execute_result"
    }
   ],
   "source": [
    "res['data']['getPodcastSeries']['episodes']"
   ]
  },
  {
   "cell_type": "code",
   "execution_count": 21,
   "metadata": {},
   "outputs": [
    {
     "data": {
      "text/plain": [
       "[{'image_url': None,\n",
       "  'name': 'Dr. Marc Brackett: How to Increase Your Emotional Intelligence'},\n",
       " {'image_url': None,\n",
       "  'name': 'Dr. Jamil Zaki: How to Cultivate a Positive, Growth-Oriented Mindset'},\n",
       " {'image_url': None, 'name': 'Optimal Protocols for Studying & Learning'},\n",
       " {'image_url': None,\n",
       "  'name': 'Dr. Teo Soleymani: How to Improve & Protect Your Skin Health & Appearance'},\n",
       " {'image_url': None,\n",
       "  'name': 'Perform with Dr. Andy Galpin: Nutrition to Support Brain Health & Offset Brain Injuries'},\n",
       " {'image_url': None,\n",
       "  'name': 'Dr. Layne Norton: Tools for Nutrition & Fitness'},\n",
       " {'image_url': None,\n",
       "  'name': 'Dr. Martha Beck: Access Your Best Self With Mind-Body Practices, Belief Testing & Imagination'},\n",
       " {'image_url': 'https://megaphone.imgix.net/podcasts/1d3d1680-5037-11ef-b39f-bf5e480148f7/image/34256f63c8c1fc50fc11ffcb1d5265af.jpg?ixlib=rails-4.3.1&max-w=3000&max-h=3000&fit=crop&auto=format,compress',\n",
       "  'name': 'AMA #18: Cold Therapy Advice, Skin Health Tips, Motivation, Learning Strategies & More'},\n",
       " {'image_url': None,\n",
       "  'name': 'Dr. Peter Attia: Supplements for Longevity & Their Efficacy'},\n",
       " {'image_url': None,\n",
       "  'name': 'Dr. Stacy Sims: Female-Specific Exercise & Nutrition for Health, Performance & Longevity'}]"
      ]
     },
     "execution_count": 21,
     "metadata": {},
     "output_type": "execute_result"
    }
   ],
   "source": [
    "image_urls = [{'image_url': episode['imageUrl'], \"name\": episode[\"name\"]} for episode in res['data']['getPodcastSeries']['episodes']]\n",
    "image_urls"
   ]
  },
  {
   "cell_type": "code",
   "execution_count": 51,
   "metadata": {},
   "outputs": [],
   "source": [
    "from datetime import datetime\n",
    "\n",
    "def insert_podcast(data):\n",
    "    return (\n",
    "        supabase.table(\"podcasts\").insert({\n",
    "        \"title\": data['name'],\n",
    "        \"author_name\": data['authorName'],\n",
    "        \"image_url\": data['imageUrl'],\n",
    "        \"description\": data['description'],\n",
    "    }).execute())\n",
    "\n",
    "def insert_episodes(data):\n",
    "    return (supabase.table(\"episodes\").insert([{\n",
    "        \"title\": episode['name'],\n",
    "        \"description\": episode['description'],\n",
    "        \"duration\": episode['duration'],\n",
    "        \"created_at\": datetime.fromtimestamp(episode['datePublished']).isoformat(),\n",
    "        \"audio_url\": episode['audioUrl'],\n",
    "    } for episode in data]).execute())"
   ]
  },
  {
   "cell_type": "code",
   "execution_count": 52,
   "metadata": {},
   "outputs": [],
   "source": [
    "response = insert_podcast(res['data']['getPodcastSeries'])"
   ]
  },
  {
   "cell_type": "code",
   "execution_count": 53,
   "metadata": {},
   "outputs": [],
   "source": [
    "episode_response = insert_episodes(res['data']['getPodcastSeries']['episodes'])"
   ]
  },
  {
   "cell_type": "code",
   "execution_count": 54,
   "metadata": {},
   "outputs": [
    {
     "data": {
      "text/plain": [
       "[21, 22, 23, 24, 25, 26, 27, 28, 29, 30]"
      ]
     },
     "execution_count": 54,
     "metadata": {},
     "output_type": "execute_result"
    }
   ],
   "source": [
    "episode_ids =[episode['id'] for episode in episode_response.data]\n",
    "episode_ids"
   ]
  },
  {
   "cell_type": "code",
   "execution_count": 55,
   "metadata": {},
   "outputs": [
    {
     "data": {
      "text/plain": [
       "6"
      ]
     },
     "execution_count": 55,
     "metadata": {},
     "output_type": "execute_result"
    }
   ],
   "source": [
    "podcast_id = response.data[0]['id']\n",
    "podcast_id"
   ]
  },
  {
   "cell_type": "code",
   "execution_count": 56,
   "metadata": {},
   "outputs": [],
   "source": [
    "def insert_podcast_episodes(podcast_id, episode_ids):\n",
    "    return (supabase.table(\"episode_podcast\").insert([{\n",
    "        \"podcast_id\": podcast_id,\n",
    "        \"episode_id\": episode_id\n",
    "    } for episode_id in episode_ids]).execute())"
   ]
  },
  {
   "cell_type": "code",
   "execution_count": 57,
   "metadata": {},
   "outputs": [],
   "source": [
    "relationship_response = insert_podcast_episodes(podcast_id, episode_ids)"
   ]
  },
  {
   "cell_type": "code",
   "execution_count": null,
   "metadata": {},
   "outputs": [],
   "source": []
  }
 ],
 "metadata": {
  "kernelspec": {
   "display_name": "venv",
   "language": "python",
   "name": "python3"
  },
  "language_info": {
   "codemirror_mode": {
    "name": "ipython",
    "version": 3
   },
   "file_extension": ".py",
   "mimetype": "text/x-python",
   "name": "python",
   "nbconvert_exporter": "python",
   "pygments_lexer": "ipython3",
   "version": "3.10.14"
  }
 },
 "nbformat": 4,
 "nbformat_minor": 2
}
