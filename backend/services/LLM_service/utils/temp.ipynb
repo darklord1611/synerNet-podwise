{
 "cells": [
  {
   "cell_type": "code",
   "execution_count": 1,
   "metadata": {},
   "outputs": [],
   "source": [
    "from prompts import set_combine_chunks_prompt\n",
    "\n",
    "summaries = [\n",
    "    \"The quick brown fox jumps over the lazy dog.\",\n",
    "    \"The quick brown fox jumps over the lazy dog.\",\n",
    "    \"The quick brown fox jumps over the lazy dog.\",\n",
    "]\n",
    "\n",
    "temp = set_combine_chunks_prompt(summaries)"
   ]
  },
  {
   "cell_type": "code",
   "execution_count": 2,
   "metadata": {},
   "outputs": [
    {
     "name": "stdout",
     "output_type": "stream",
     "text": [
      "\n",
      "Paragraph 0: \n",
      "The quick brown fox jumps over the lazy dog.\n",
      "\n",
      "\n",
      "Paragraph 1: \n",
      "The quick brown fox jumps over the lazy dog.\n",
      "\n",
      "\n",
      "Paragraph 2: \n",
      "The quick brown fox jumps over the lazy dog.\n",
      "\n",
      "\n",
      "You will be given a series of paragraphs above, each with a number like Paragraph 0, Paragraph 1, ... Paragraph N. You will analyze these paragraphs and decide whether to merge semantically similar paragraphs together and generate a title.\n",
      "\n",
      "Guidelines:\n",
      "- Combine paragraphs that are semantically similar or related to each other.\n",
      "- Create a title that accurately represents the content of the combined paragraphs.\n",
      "- Ensure that the title is concise and informative.\n",
      "- Maintain the order of the paragraphs in the combination.\n",
      "- If the paragraphs are not related, .\n",
      "- Only use the number of paragraphs provided in the input.\n",
      "- Return the result in the following JSON format:\n",
      "\n",
      "{\n",
      "    \"combination\": [\n",
      "        {\n",
      "            \"paragraph_indexes\": [0, 1, ...],\n",
      "            \"title\": \"string\"\n",
      "        },\n",
      "        ...\n",
      "    ]\n",
      "}\n",
      "\n",
      "Note:\n",
      "- The \"paragraph_indexes\" should be a list of integers representing the indexes of the paragraphs that are combined.\n",
      "- If paragraphs are not combined, the \"paragraph_indexes\" should contain only one index.\n",
      "    \n"
     ]
    }
   ],
   "source": [
    "print(temp)"
   ]
  },
  {
   "cell_type": "code",
   "execution_count": null,
   "metadata": {},
   "outputs": [],
   "source": []
  }
 ],
 "metadata": {
  "kernelspec": {
   "display_name": "venv",
   "language": "python",
   "name": "python3"
  },
  "language_info": {
   "codemirror_mode": {
    "name": "ipython",
    "version": 3
   },
   "file_extension": ".py",
   "mimetype": "text/x-python",
   "name": "python",
   "nbconvert_exporter": "python",
   "pygments_lexer": "ipython3",
   "version": "3.10.14"
  }
 },
 "nbformat": 4,
 "nbformat_minor": 2
}
